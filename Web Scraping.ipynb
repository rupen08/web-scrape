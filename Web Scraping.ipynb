{
 "cells": [
  {
   "cell_type": "markdown",
   "metadata": {},
   "source": [
    "## Web Scrape Project\n",
    "Step 1: Import all important modules\n",
    "\n",
    "Step 2: Get the HTML\n",
    "\n",
    "Step 3: Parse the HTML\n",
    "\n",
    "Step 4: HTML Tree traversal"
   ]
  },
  {
   "cell_type": "code",
   "execution_count": 91,
   "metadata": {},
   "outputs": [],
   "source": [
    "import requests\n",
    "from bs4 import BeautifulSoup\n",
    "import html5lib\n",
    "import time\n",
    "import datetime"
   ]
  },
  {
   "cell_type": "code",
   "execution_count": 92,
   "metadata": {},
   "outputs": [],
   "source": [
    "url = \"https://codewithharry.com\""
   ]
  },
  {
   "cell_type": "code",
   "execution_count": 93,
   "metadata": {},
   "outputs": [],
   "source": [
    "r = requests.get(url)"
   ]
  },
  {
   "cell_type": "code",
   "execution_count": 94,
   "metadata": {},
   "outputs": [],
   "source": [
    "htmlContent = r.content"
   ]
  },
  {
   "cell_type": "code",
   "execution_count": 95,
   "metadata": {
    "scrolled": true
   },
   "outputs": [
    {
     "name": "stdout",
     "output_type": "stream",
     "text": [
      "<!DOCTYPE html>\n",
      "<html lang=\"en\">\n",
      " <head>\n",
      "  <meta charset=\"utf-8\"/>\n",
      "  <title>\n",
      "   Home - CodeWithHarry\n",
      "  </title>\n",
      "  <base href=\"/\"/>\n",
      "  <meta content=\"width=device-width, initial-scale=1\" name=\"viewport\"/>\n",
      "  <link href=\"favicon.ico\" rel=\"icon\" type=\"image/x-icon\"/>\n",
      "  <link href=\"https://fonts.gstatic.com\" rel=\"preconnect\"/>\n",
      "  <style type=\"text/css\">\n",
      "   @font-face{font-family:'Roboto';font-style:normal;font-weight:300;font-display:swap;src:url(https://fonts.gstatic.com/s/roboto/v27/KFOlCnqEu92Fr1MmSU5fCRc4AMP6lbBP.woff2) format('woff2');unicode-range:U+0460-052F, U+1C80-1C88, U+20B4, U+2DE0-2DFF, U+A640-A69F, U+FE2E-FE2F;}@font-face{font-family:'Roboto';font-style:normal;font-weight:300;font-display:swap;src:url(https://fonts.gstatic.com/s/roboto/v27/KFOlCnqEu92Fr1MmSU5fABc4AMP6lbBP.woff2) format('woff2');unicode-range:U+0400-045F, U+0490-0491, U+04B0-04B1, U+2116;}@font-face{font-family:'Roboto';font-style:normal;font-weight:300;font-display:swap;src:url(https://fonts.gstatic.com/s/roboto/v27/KFOlCnqEu92Fr1MmSU5fCBc4AMP6lbBP.woff2) format('woff2');unicode-range:U+1F00-1FFF;}@font-face{font-family:'Roboto';font-style:normal;font-weight:300;font-display:swap;src:url(https://fonts.gstatic.com/s/roboto/v27/KFOlCnqEu92Fr1MmSU5fBxc4AMP6lbBP.woff2) format('woff2');unicode-range:U+0370-03FF;}@font-face{font-family:'Roboto';font-style:normal;font-weight:300;font-display:swap;src:url(https://fonts.gstatic.com/s/roboto/v27/KFOlCnqEu92Fr1MmSU5fCxc4AMP6lbBP.woff2) format('woff2');unicode-range:U+0102-0103, U+0110-0111, U+0128-0129, U+0168-0169, U+01A0-01A1, U+01AF-01B0, U+1EA0-1EF9, U+20AB;}@font-face{font-family:'Roboto';font-style:normal;font-weight:300;font-display:swap;src:url(https://fonts.gstatic.com/s/roboto/v27/KFOlCnqEu92Fr1MmSU5fChc4AMP6lbBP.woff2) format('woff2');unicode-range:U+0100-024F, U+0259, U+1E00-1EFF, U+2020, U+20A0-20AB, U+20AD-20CF, U+2113, U+2C60-2C7F, U+A720-A7FF;}@font-face{font-family:'Roboto';font-style:normal;font-weight:300;font-display:swap;src:url(https://fonts.gstatic.com/s/roboto/v27/KFOlCnqEu92Fr1MmSU5fBBc4AMP6lQ.woff2) format('woff2');unicode-range:U+0000-00FF, U+0131, U+0152-0153, U+02BB-02BC, U+02C6, U+02DA, U+02DC, U+2000-206F, U+2074, U+20AC, U+2122, U+2191, U+2193, U+2212, U+2215, U+FEFF, U+FFFD;}@font-face{font-family:'Roboto';font-style:normal;font-weight:400;font-display:swap;src:url(https://fonts.gstatic.com/s/roboto/v27/KFOmCnqEu92Fr1Mu72xKKTU1Kvnz.woff2) format('woff2');unicode-range:U+0460-052F, U+1C80-1C88, U+20B4, U+2DE0-2DFF, U+A640-A69F, U+FE2E-FE2F;}@font-face{font-family:'Roboto';font-style:normal;font-weight:400;font-display:swap;src:url(https://fonts.gstatic.com/s/roboto/v27/KFOmCnqEu92Fr1Mu5mxKKTU1Kvnz.woff2) format('woff2');unicode-range:U+0400-045F, U+0490-0491, U+04B0-04B1, U+2116;}@font-face{font-family:'Roboto';font-style:normal;font-weight:400;font-display:swap;src:url(https://fonts.gstatic.com/s/roboto/v27/KFOmCnqEu92Fr1Mu7mxKKTU1Kvnz.woff2) format('woff2');unicode-range:U+1F00-1FFF;}@font-face{font-family:'Roboto';font-style:normal;font-weight:400;font-display:swap;src:url(https://fonts.gstatic.com/s/roboto/v27/KFOmCnqEu92Fr1Mu4WxKKTU1Kvnz.woff2) format('woff2');unicode-range:U+0370-03FF;}@font-face{font-family:'Roboto';font-style:normal;font-weight:400;font-display:swap;src:url(https://fonts.gstatic.com/s/roboto/v27/KFOmCnqEu92Fr1Mu7WxKKTU1Kvnz.woff2) format('woff2');unicode-range:U+0102-0103, U+0110-0111, U+0128-0129, U+0168-0169, U+01A0-01A1, U+01AF-01B0, U+1EA0-1EF9, U+20AB;}@font-face{font-family:'Roboto';font-style:normal;font-weight:400;font-display:swap;src:url(https://fonts.gstatic.com/s/roboto/v27/KFOmCnqEu92Fr1Mu7GxKKTU1Kvnz.woff2) format('woff2');unicode-range:U+0100-024F, U+0259, U+1E00-1EFF, U+2020, U+20A0-20AB, U+20AD-20CF, U+2113, U+2C60-2C7F, U+A720-A7FF;}@font-face{font-family:'Roboto';font-style:normal;font-weight:400;font-display:swap;src:url(https://fonts.gstatic.com/s/roboto/v27/KFOmCnqEu92Fr1Mu4mxKKTU1Kg.woff2) format('woff2');unicode-range:U+0000-00FF, U+0131, U+0152-0153, U+02BB-02BC, U+02C6, U+02DA, U+02DC, U+2000-206F, U+2074, U+20AC, U+2122, U+2191, U+2193, U+2212, U+2215, U+FEFF, U+FFFD;}@font-face{font-family:'Roboto';font-style:normal;font-weight:500;font-display:swap;src:url(https://fonts.gstatic.com/s/roboto/v27/KFOlCnqEu92Fr1MmEU9fCRc4AMP6lbBP.woff2) format('woff2');unicode-range:U+0460-052F, U+1C80-1C88, U+20B4, U+2DE0-2DFF, U+A640-A69F, U+FE2E-FE2F;}@font-face{font-family:'Roboto';font-style:normal;font-weight:500;font-display:swap;src:url(https://fonts.gstatic.com/s/roboto/v27/KFOlCnqEu92Fr1MmEU9fABc4AMP6lbBP.woff2) format('woff2');unicode-range:U+0400-045F, U+0490-0491, U+04B0-04B1, U+2116;}@font-face{font-family:'Roboto';font-style:normal;font-weight:500;font-display:swap;src:url(https://fonts.gstatic.com/s/roboto/v27/KFOlCnqEu92Fr1MmEU9fCBc4AMP6lbBP.woff2) format('woff2');unicode-range:U+1F00-1FFF;}@font-face{font-family:'Roboto';font-style:normal;font-weight:500;font-display:swap;src:url(https://fonts.gstatic.com/s/roboto/v27/KFOlCnqEu92Fr1MmEU9fBxc4AMP6lbBP.woff2) format('woff2');unicode-range:U+0370-03FF;}@font-face{font-family:'Roboto';font-style:normal;font-weight:500;font-display:swap;src:url(https://fonts.gstatic.com/s/roboto/v27/KFOlCnqEu92Fr1MmEU9fCxc4AMP6lbBP.woff2) format('woff2');unicode-range:U+0102-0103, U+0110-0111, U+0128-0129, U+0168-0169, U+01A0-01A1, U+01AF-01B0, U+1EA0-1EF9, U+20AB;}@font-face{font-family:'Roboto';font-style:normal;font-weight:500;font-display:swap;src:url(https://fonts.gstatic.com/s/roboto/v27/KFOlCnqEu92Fr1MmEU9fChc4AMP6lbBP.woff2) format('woff2');unicode-range:U+0100-024F, U+0259, U+1E00-1EFF, U+2020, U+20A0-20AB, U+20AD-20CF, U+2113, U+2C60-2C7F, U+A720-A7FF;}@font-face{font-family:'Roboto';font-style:normal;font-weight:500;font-display:swap;src:url(https://fonts.gstatic.com/s/roboto/v27/KFOlCnqEu92Fr1MmEU9fBBc4AMP6lQ.woff2) format('woff2');unicode-range:U+0000-00FF, U+0131, U+0152-0153, U+02BB-02BC, U+02C6, U+02DA, U+02DC, U+2000-206F, U+2074, U+20AC, U+2122, U+2191, U+2193, U+2212, U+2215, U+FEFF, U+FFFD;}\n",
      "  </style>\n",
      "  <style type=\"text/css\">\n",
      "   @font-face{font-family:'Material Icons';font-style:normal;font-weight:400;src:url(https://fonts.gstatic.com/s/materialicons/v87/flUhRq6tzZclQEJ-Vdg-IuiaDsNcIhQ8tQ.woff2) format('woff2');}.material-icons{font-family:'Material Icons';font-weight:normal;font-style:normal;font-size:24px;line-height:1;letter-spacing:normal;text-transform:none;display:inline-block;white-space:nowrap;word-wrap:normal;direction:ltr;-webkit-font-feature-settings:'liga';-webkit-font-smoothing:antialiased;}\n",
      "  </style>\n",
      "  <script async=\"\" data-ad-client=\"ca-pub-9655830461045889\" src=\"https://pagead2.googlesyndication.com/pagead/js/adsbygoogle.js\">\n",
      "  </script>\n",
      "  <!-- Global site tag (gtag.js) - Google Analytics -->\n",
      "  <script async=\"\" src=\"https://www.googletagmanager.com/gtag/js?id=UA-60726752-3\">\n",
      "  </script>\n",
      "  <script>\n",
      "   window.dataLayer = window.dataLayer || [];\n",
      "    function gtag() { dataLayer.push(arguments); }\n",
      "    gtag('js', new Date());\n",
      "    gtag('config', 'UA-60726752-3');\n",
      "  </script>\n",
      "  <link href=\"styles.bc31d58d1fffbdf64e6b.css\" rel=\"stylesheet\"/>\n",
      "  <style ng-transition=\"serverApp\">\n",
      "   .content[_ngcontent-sc76]{min-height:calc(100vh - 56px - 80px)}\n",
      "  </style>\n",
      "  <style ng-transition=\"serverApp\">\n",
      "   [_nghost-sc73]{position:relative;display:block;pointer-events:none}[_nghost-sc73]   .ngx-spinner[_ngcontent-sc73]{transition:350ms linear;display:block;position:absolute;top:5px;left:0}[_nghost-sc73]   .ngx-spinner[_ngcontent-sc73]   .ngx-spinner-icon[_ngcontent-sc73]{width:14px;height:14px;border:2px solid transparent;border-top-color:inherit;border-left-color:inherit;border-radius:50%;-webkit-animation:.4s linear infinite loading-bar-spinner;animation:.4s linear infinite loading-bar-spinner}[_nghost-sc73]   .ngx-bar[_ngcontent-sc73]{transition:width 350ms;position:absolute;top:0;left:0;width:100%;height:2px;border-bottom-right-radius:1px;border-top-right-radius:1px}[dir=rtl]   [_nghost-sc73]   .ngx-bar[_ngcontent-sc73]{right:0;left:unset}[fixed=true][_nghost-sc73]{z-index:10002}[fixed=true][_nghost-sc73]   .ngx-bar[_ngcontent-sc73]{position:fixed}[fixed=true][_nghost-sc73]   .ngx-spinner[_ngcontent-sc73]{position:fixed;top:10px;left:10px}[dir=rtl]   [fixed=true][_nghost-sc73]   .ngx-spinner[_ngcontent-sc73]{right:10px;left:unset}@-webkit-keyframes loading-bar-spinner{0%{transform:rotate(0)}100%{transform:rotate(360deg)}}@keyframes loading-bar-spinner{0%{transform:rotate(0)}100%{transform:rotate(360deg)}}\n",
      "  </style>\n",
      "  <style ng-transition=\"serverApp\">\n",
      "   .brandLogo[_ngcontent-sc74]{max-width:39px;margin:0 13px}li[_ngcontent-sc74]   a.nav-link[_ngcontent-sc74]{color:#fff}.notificationImg[_ngcontent-sc74]{width:30px;filter:invert(1)}.notification-bell[_ngcontent-sc74]{position:absolute;right:0}.dropdown-toggle[_ngcontent-sc74]{font-weight:700}.dropdown-menu-notify[_ngcontent-sc74]{overflow-y:scroll;overflow-x:hidden;max-height:400px;top:60px;right:-1px;left:unset;width:460px;box-shadow:0 5px 7px -1px #c1c1c1;padding:0}ul[_ngcontent-sc74]   ul[_ngcontent-sc74]   a[_ngcontent-sc74]{background:transparent}.dropdown-menu-notify[_ngcontent-sc74]:before{content:\"\";position:absolute;top:-20px;right:12px;border:10px solid transparent;border-bottom-color:#fff}.head-notify[_ngcontent-sc74]{padding:5px 15px;border-radius:3px 3px 0 0}.footer-notify[_ngcontent-sc74]{padding:5px 15px;border-radius:0 0 3px 3px}.notification-box-notify[_ngcontent-sc74]{padding:10px 0}.bg-gray-notify[_ngcontent-sc74]{background-color:#eee}@media (max-width:640px){.dropdown-menu-notify[_ngcontent-sc74]{top:50px;left:-16px;width:290px}.nav-notify[_ngcontent-sc74]{display:block}.nav-notify[_ngcontent-sc74]   .nav-item-notify[_ngcontent-sc74], .nav-notify[_ngcontent-sc74]   .nav-item-notify[_ngcontent-sc74]   a[_ngcontent-sc74]{padding-left:0}.message-notify[_ngcontent-sc74]{font-size:13px}}.loginError[_ngcontent-sc74]{color:red;padding:3px 2px}div.alert[_ngcontent-sc74]{margin:0}input.ng-touched.ng-invalid[_ngcontent-sc74], textarea.ng-touched.ng-invalid[_ngcontent-sc74]{border-color:red}.forgot[_ngcontent-sc74]{font-size:14px;color:#000;text-align:left;text-decoration:underline;cursor:pointer;padding:16px 0}.googleAuth[_ngcontent-sc74]{width:46%;cursor:pointer;border:1px solid #000;border-radius:3px;background:#60a3dd;margin-top:1px}.or[_ngcontent-sc74]{font-weight:500;font-size:19px}.modal-header[_ngcontent-sc74]{display:flex;align-items:center;justify-content:center;flex-direction:column}.modal-header[_ngcontent-sc74]   span[_ngcontent-sc74]{position:absolute;top:15px;right:20px}.navbar-brand[_ngcontent-sc74]{margin:0;padding:0}\n",
      "  </style>\n",
      "  <style ng-transition=\"serverApp\">\n",
      "   footer[_ngcontent-sc75]{color:#fff}\n",
      "  </style>\n",
      "  <style ng-transition=\"serverApp\">\n",
      "   .btn[_ngcontent-sc67]{margin:0 3px}\n",
      "  </style>\n",
      "  <meta content=\"Code With Harry is my attempt to teach basics and those coding techniques to people in short time which took me ages to learn. At Code With Harry, I provide a quick and to the point demo along with resources of anything and everything I teach. Source code and other resources are hosted on my website CodeWithHarry.com. I provide source code(if any) in the description of every video.\" name=\"description\"/>\n",
      " </head>\n",
      " <body>\n",
      "  <app-root _nghost-sc76=\"\" ng-version=\"11.2.11\">\n",
      "   <ngx-loading-bar _ngcontent-sc76=\"\" _nghost-sc73=\"\" fixed=\"true\" style=\"color:red;\">\n",
      "    <!-- -->\n",
      "   </ngx-loading-bar>\n",
      "   <ngx-loading-bar _ngcontent-sc76=\"\" _nghost-sc73=\"\" fixed=\"true\" style=\"color:red;\">\n",
      "    <!-- -->\n",
      "   </ngx-loading-bar>\n",
      "   <app-header _ngcontent-sc76=\"\" _nghost-sc74=\"\">\n",
      "    <!-- -->\n",
      "    <nav _ngcontent-sc74=\"\" class=\"navbar navbar-expand-lg navbar-dark bg-dark\">\n",
      "     <a _ngcontent-sc74=\"\" class=\"navbar-brand\" href=\"/\" routerlink=\"/\">\n",
      "      <img _ngcontent-sc74=\"\" alt=\"CodeWithHarry\" class=\"brandLogo\" height=\"39px\" src=\"../../../assets/img/logo.png\" width=\"39px\"/>\n",
      "     </a>\n",
      "     <button _ngcontent-sc74=\"\" aria-controls=\"navbarSupportedContent\" aria-expanded=\"false\" aria-label=\"Toggle navigation\" class=\"navbar-toggler\" data-target=\"#navbarSupportedContent\" data-toggle=\"collapse\" type=\"button\">\n",
      "      <span _ngcontent-sc74=\"\" class=\"navbar-toggler-icon\">\n",
      "      </span>\n",
      "     </button>\n",
      "     <div _ngcontent-sc74=\"\" class=\"collapse navbar-collapse\" id=\"navbarSupportedContent\">\n",
      "      <ul _ngcontent-sc74=\"\" class=\"navbar-nav mr-auto\">\n",
      "       <li _ngcontent-sc74=\"\" class=\"nav-item font-weight-bold\">\n",
      "        <a _ngcontent-sc74=\"\" class=\"nav-link\" href=\"/\" routerlink=\"/\">\n",
      "         Home\n",
      "        </a>\n",
      "       </li>\n",
      "       <li _ngcontent-sc74=\"\" class=\"nav-item font-weight-bold\">\n",
      "        <a _ngcontent-sc74=\"\" class=\"nav-link\" href=\"/videos\" routerlink=\"/videos\">\n",
      "         Videos\n",
      "        </a>\n",
      "       </li>\n",
      "       <li _ngcontent-sc74=\"\" class=\"nav-item font-weight-bold\">\n",
      "        <a _ngcontent-sc74=\"\" class=\"nav-link\" href=\"/blog\" routerlink=\"/blog\">\n",
      "         Blog\n",
      "        </a>\n",
      "       </li>\n",
      "       <li _ngcontent-sc74=\"\" class=\"nav-item font-weight-bold\">\n",
      "        <a _ngcontent-sc74=\"\" class=\"nav-link\" href=\"/contact\" routerlink=\"/contact\">\n",
      "         Contact Me\n",
      "        </a>\n",
      "       </li>\n",
      "      </ul>\n",
      "      <form _ngcontent-sc74=\"\" class=\"form-inline my-2 my-lg-0 mr-3 ng-untouched ng-pristine ng-valid\" novalidate=\"\">\n",
      "       <input _ngcontent-sc74=\"\" aria-label=\"Search\" class=\"form-control mr-sm-2 ng-untouched ng-pristine ng-valid\" name=\"query\" placeholder=\"Search\" type=\"text\" value=\"\"/>\n",
      "       <button _ngcontent-sc74=\"\" class=\"btn btn-danger my-2 my-sm-0\" type=\"submit\">\n",
      "        Search\n",
      "       </button>\n",
      "      </form>\n",
      "      <div _ngcontent-sc74=\"\" class=\"mx-0\">\n",
      "       <button _ngcontent-sc74=\"\" class=\"btn btn-danger mr-2\" data-target=\"#loginModal\" data-toggle=\"modal\" type=\"button\">\n",
      "        Login\n",
      "       </button>\n",
      "       <button _ngcontent-sc74=\"\" class=\"btn btn-danger\" data-target=\"#signupModal\" data-toggle=\"modal\" type=\"button\">\n",
      "        SignUp\n",
      "       </button>\n",
      "      </div>\n",
      "      <!-- -->\n",
      "      <!-- -->\n",
      "     </div>\n",
      "    </nav>\n",
      "    <div _ngcontent-sc74=\"\" aria-hidden=\"true\" aria-labelledby=\"loginModal\" class=\"modal fade\" id=\"loginModal\" role=\"dialog\" tabindex=\"-1\">\n",
      "     <div _ngcontent-sc74=\"\" class=\"modal-dialog\" role=\"document\">\n",
      "      <div _ngcontent-sc74=\"\" class=\"modal-content\">\n",
      "       <div _ngcontent-sc74=\"\" class=\"modal-header\">\n",
      "        <img _ngcontent-sc74=\"\" alt=\"Login with Google\" class=\"googleAuth mx-2\" height=\"42.75px\" src=\"../../../assets/img/googleLogin.png\" width=\"25%\"/>\n",
      "        <div _ngcontent-sc74=\"\" class=\"or mx-3\">\n",
      "         or\n",
      "        </div>\n",
      "        <h5 _ngcontent-sc74=\"\" class=\"modal-title\" id=\"loginModalTitle\">\n",
      "         Login via username\n",
      "        </h5>\n",
      "        <button _ngcontent-sc74=\"\" aria-label=\"Close\" class=\"close\" data-dismiss=\"modal\" type=\"button\">\n",
      "         <span _ngcontent-sc74=\"\" aria-hidden=\"true\">\n",
      "          ×\n",
      "         </span>\n",
      "        </button>\n",
      "       </div>\n",
      "       <div _ngcontent-sc74=\"\" class=\"modal-body\">\n",
      "        <form _ngcontent-sc74=\"\" class=\"ng-untouched ng-pristine ng-invalid\" method=\"post\" novalidate=\"\">\n",
      "         <div _ngcontent-sc74=\"\" class=\"form-group\">\n",
      "          <label _ngcontent-sc74=\"\" for=\"username\">\n",
      "           Username\n",
      "          </label>\n",
      "          <input _ngcontent-sc74=\"\" class=\"form-control ng-untouched ng-pristine ng-invalid\" id=\"username\" maxlength=\"10\" minlength=\"2\" name=\"username\" pattern=\"[a-zA-Z0-9 ]*\" placeholder=\"Enter your username\" required=\"\" type=\"text\" value=\"\"/>\n",
      "          <!-- -->\n",
      "         </div>\n",
      "         <div _ngcontent-sc74=\"\" class=\"form-group\">\n",
      "          <label _ngcontent-sc74=\"\" for=\"loginpassword\">\n",
      "           Password\n",
      "          </label>\n",
      "          <input _ngcontent-sc74=\"\" class=\"form-control ng-untouched ng-pristine ng-invalid\" id=\"loginpassword\" name=\"loginpassword\" placeholder=\"Enter your password\" required=\"\" type=\"password\" value=\"\"/>\n",
      "         </div>\n",
      "         <button _ngcontent-sc74=\"\" class=\"btn btn-danger mt-2\" disabled=\"\" id=\"loginsubmit\" type=\"submit\">\n",
      "          <!-- -->\n",
      "          Login\n",
      "         </button>\n",
      "        </form>\n",
      "        <!-- -->\n",
      "        <!-- -->\n",
      "        <!-- -->\n",
      "        <div _ngcontent-sc74=\"\" class=\"forgot\">\n",
      "         <span _ngcontent-sc74=\"\">\n",
      "          Forgot Password?\n",
      "         </span>\n",
      "        </div>\n",
      "       </div>\n",
      "       <div _ngcontent-sc74=\"\" class=\"modal-footer\">\n",
      "        <button _ngcontent-sc74=\"\" class=\"btn btn-secondary\" data-dismiss=\"modal\" type=\"button\">\n",
      "         Close\n",
      "        </button>\n",
      "       </div>\n",
      "      </div>\n",
      "     </div>\n",
      "    </div>\n",
      "    <div _ngcontent-sc74=\"\" aria-hidden=\"true\" aria-labelledby=\"signupModal\" class=\"modal fade\" id=\"signupModal\" role=\"dialog\" tabindex=\"-1\">\n",
      "     <div _ngcontent-sc74=\"\" class=\"modal-dialog\" role=\"document\">\n",
      "      <div _ngcontent-sc74=\"\" class=\"modal-content\">\n",
      "       <div _ngcontent-sc74=\"\" class=\"modal-header\">\n",
      "        <img _ngcontent-sc74=\"\" alt=\"Signup with Google\" class=\"googleAuth mx-2\" height=\"42.75px\" src=\"../../../assets/img/googleSignUp.png\" width=\"25%\"/>\n",
      "        <div _ngcontent-sc74=\"\" class=\"or mx-3\">\n",
      "         or\n",
      "        </div>\n",
      "        <h5 _ngcontent-sc74=\"\" class=\"modal-title\" id=\"signupModal\">\n",
      "         SignUp for an account\n",
      "        </h5>\n",
      "        <button _ngcontent-sc74=\"\" aria-label=\"Close\" class=\"close\" data-dismiss=\"modal\" type=\"button\">\n",
      "         <span _ngcontent-sc74=\"\" aria-hidden=\"true\">\n",
      "          ×\n",
      "         </span>\n",
      "        </button>\n",
      "       </div>\n",
      "       <div _ngcontent-sc74=\"\" class=\"modal-body\">\n",
      "        <form _ngcontent-sc74=\"\" class=\"ng-untouched ng-pristine ng-invalid\" method=\"post\" novalidate=\"\">\n",
      "         <div _ngcontent-sc74=\"\" class=\"form-group\">\n",
      "          <label _ngcontent-sc74=\"\" for=\"uname\">\n",
      "           Username\n",
      "          </label>\n",
      "          <input _ngcontent-sc74=\"\" class=\"form-control ng-untouched ng-pristine ng-invalid\" id=\"signupUserName\" maxlength=\"10\" minlength=\"4\" name=\"signupUserName\" ngmodel=\"\" pattern=\"[a-zA-Z0-9_ ]*\" placeholder=\"Enter your username\" required=\"\" type=\"text\" value=\"\"/>\n",
      "          <!-- -->\n",
      "          <small _ngcontent-sc74=\"\" class=\"form-text text-muted px-1\" id=\"unamehelp\">\n",
      "           Your unique username must 4 - 10 characters (only lowecase letters, numbers &amp; underscores allowed) with no spaces\n",
      "          </small>\n",
      "         </div>\n",
      "         <div _ngcontent-sc74=\"\" class=\"form-group\">\n",
      "          <label _ngcontent-sc74=\"\" for=\"signupName\">\n",
      "           Name\n",
      "          </label>\n",
      "          <input _ngcontent-sc74=\"\" class=\"form-control ng-untouched ng-pristine ng-valid\" id=\"signupName\" maxlength=\"30\" name=\"signupName\" ngmodel=\"\" placeholder=\"Enter your Name\" type=\"text\" value=\"\"/>\n",
      "         </div>\n",
      "         <div _ngcontent-sc74=\"\" class=\"form-group\">\n",
      "          <label _ngcontent-sc74=\"\" for=\"email\">\n",
      "           Your Email\n",
      "          </label>\n",
      "          <div _ngcontent-sc74=\"\" class=\"mx-0\">\n",
      "           <div _ngcontent-sc74=\"\" class=\"col-md-8 px-0\">\n",
      "            <input _ngcontent-sc74=\"\" class=\"form-control ng-untouched ng-pristine ng-invalid\" email=\"\" id=\"signupEmail\" maxlength=\"40\" name=\"signupEmail\" placeholder=\"Enter your Email\" required=\"\" type=\"email\" value=\"\"/>\n",
      "            <!-- -->\n",
      "            <!-- -->\n",
      "           </div>\n",
      "           <div _ngcontent-sc74=\"\" class=\"col-md-4 my-1 px-0\">\n",
      "            <button _ngcontent-sc74=\"\" class=\"btn btn-danger btn-sm mt-2\" disabled=\"\" id=\"otpbtn\" type=\"button\">\n",
      "             <!-- -->\n",
      "             Send OTP\n",
      "            </button>\n",
      "           </div>\n",
      "          </div>\n",
      "         </div>\n",
      "         <div _ngcontent-sc74=\"\" class=\"form-group\">\n",
      "          <label _ngcontent-sc74=\"\" for=\"otp\">\n",
      "           Enter OTP\n",
      "          </label>\n",
      "          <input _ngcontent-sc74=\"\" class=\"form-control ng-untouched ng-pristine ng-invalid\" id=\"signupOTP\" name=\"signupOTP\" ngmodel=\"\" placeholder=\"Enter OTP\" required=\"\" type=\"number\" value=\"\"/>\n",
      "         </div>\n",
      "         <div _ngcontent-sc74=\"\" class=\"form-group\">\n",
      "          <label _ngcontent-sc74=\"\" for=\"signupPassword1\">\n",
      "           Choose a password (At least 4 characters)\n",
      "          </label>\n",
      "          <input _ngcontent-sc74=\"\" class=\"form-control ng-untouched ng-pristine ng-valid\" id=\"signupPassword1\" maxlength=\"20\" minlength=\"4\" name=\"signupPassword1\" ngmodel=\"\" placeholder=\"Choose a password\" type=\"password\" value=\"\"/>\n",
      "         </div>\n",
      "         <div _ngcontent-sc74=\"\" class=\"form-group mb-0\">\n",
      "          <label _ngcontent-sc74=\"\" for=\"signupPassword2\">\n",
      "           Retype your password\n",
      "          </label>\n",
      "          <input _ngcontent-sc74=\"\" class=\"form-control ng-untouched ng-pristine ng-valid\" id=\"signupPassword2\" maxlength=\"20\" minlength=\"4\" name=\"signupPassword2\" ngmodel=\"\" placeholder=\"Retype your password\" type=\"password\" value=\"\"/>\n",
      "         </div>\n",
      "         <!-- -->\n",
      "         <!-- -->\n",
      "         <!-- -->\n",
      "         <!-- -->\n",
      "         <button _ngcontent-sc74=\"\" class=\"btn btn-danger mt-4\" disabled=\"\" type=\"submit\">\n",
      "          <!-- -->\n",
      "          SignUp\n",
      "         </button>\n",
      "        </form>\n",
      "       </div>\n",
      "       <div _ngcontent-sc74=\"\" class=\"modal-footer\">\n",
      "        <button _ngcontent-sc74=\"\" class=\"btn btn-secondary\" data-dismiss=\"modal\" type=\"button\">\n",
      "         Close\n",
      "        </button>\n",
      "       </div>\n",
      "      </div>\n",
      "     </div>\n",
      "    </div>\n",
      "   </app-header>\n",
      "   <div _ngcontent-sc76=\"\" class=\"content\">\n",
      "    <router-outlet _ngcontent-sc76=\"\">\n",
      "    </router-outlet>\n",
      "    <app-homepage _nghost-sc67=\"\">\n",
      "     <section _ngcontent-sc67=\"\" class=\"jumbotron text-center\">\n",
      "      <div _ngcontent-sc67=\"\" class=\"container\">\n",
      "       <img _ngcontent-sc67=\"\" alt=\"logo\" src=\"../../../assets/img/logo.png\" width=\"120\"/>\n",
      "       <h1 _ngcontent-sc67=\"\" class=\"jumbotron-heading\">\n",
      "        <span _ngcontent-sc67=\"\" id=\"typed\">\n",
      "        </span>\n",
      "       </h1>\n",
      "       <p _ngcontent-sc67=\"\" class=\"lead text-muted\">\n",
      "        Confused on which course to take? I have got you covered. Browse courses and find out the best course for you. Its free!\n",
      "        <br _ngcontent-sc67=\"\"/>\n",
      "        Code With Harry is my attempt to teach basics and those coding techniques to people in short time which took me ages to learn.\n",
      "       </p>\n",
      "       <p _ngcontent-sc67=\"\">\n",
      "        <a _ngcontent-sc67=\"\" class=\"btn btn-danger my-2\" href=\"/blog\" routerlink=\"/blog\">\n",
      "         Browse Blog\n",
      "        </a>\n",
      "        <a _ngcontent-sc67=\"\" class=\"btn btn-success my-2\" href=\"/videos\" routerlink=\"/videos\">\n",
      "         Browse Video Tutorials\n",
      "        </a>\n",
      "        <a _ngcontent-sc67=\"\" class=\"btn btn-primary my-2\" href=\"/contact\" routerlink=\"/contact\">\n",
      "         Contact Me\n",
      "        </a>\n",
      "       </p>\n",
      "      </div>\n",
      "     </section>\n",
      "     <div _ngcontent-sc67=\"\" class=\"container\">\n",
      "      <div _ngcontent-sc67=\"\" class=\"row\">\n",
      "       <div _ngcontent-sc67=\"\" class=\"card mx-auto my-2 p-2 align-items-center\" style=\"width: 18rem;\">\n",
      "        <img _ngcontent-sc67=\"\" alt=\"...\" class=\"padded card-img-top\" src=\"../../../assets/img/home-img-1.jpg\"/>\n",
      "        <div _ngcontent-sc67=\"\" class=\"card-body\">\n",
      "         <h5 _ngcontent-sc67=\"\" class=\"card-title text-center\">\n",
      "          Free Video Courses\n",
      "         </h5>\n",
      "         <p _ngcontent-sc67=\"\" class=\"card-text text-center\">\n",
      "          Get your programming career started with these free video courses. Source code is available with all the videos for amazing learning experience\n",
      "         </p>\n",
      "         <a _ngcontent-sc67=\"\" class=\"btn btn-primary d-block\" href=\"/videos\" routerlink=\"/videos\">\n",
      "          Browse Video Courses\n",
      "         </a>\n",
      "        </div>\n",
      "       </div>\n",
      "       <div _ngcontent-sc67=\"\" class=\"card mx-auto my-2 p-2 align-items-center\" style=\"width: 18rem;\">\n",
      "        <img _ngcontent-sc67=\"\" alt=\"...\" class=\"padded card-img-top\" src=\"../../../assets/img/home-img-2.jpg\"/>\n",
      "        <div _ngcontent-sc67=\"\" class=\"card-body\">\n",
      "         <h5 _ngcontent-sc67=\"\" class=\"card-title text-center\">\n",
      "          Coding Articles\n",
      "         </h5>\n",
      "         <p _ngcontent-sc67=\"\" class=\"card-text text-center\">\n",
      "          Some of the latest coding information compiled in the form of coding articles. Keep your programming knowledge up to date with these articles.\n",
      "         </p>\n",
      "         <a _ngcontent-sc67=\"\" class=\"btn btn-primary d-block\" href=\"/blog\" routerlink=\"/blog\">\n",
      "          Go to Blog\n",
      "         </a>\n",
      "        </div>\n",
      "       </div>\n",
      "       <div _ngcontent-sc67=\"\" class=\"card mx-auto my-2 p-2 align-items-center\" style=\"width: 18rem;\">\n",
      "        <img _ngcontent-sc67=\"\" alt=\"...\" class=\"padded card-img-top\" src=\"../../../assets/img/home-img-3.jpg\"/>\n",
      "        <div _ngcontent-sc67=\"\" class=\"card-body\">\n",
      "         <h5 _ngcontent-sc67=\"\" class=\"card-title text-center\">\n",
      "          Contact Me\n",
      "         </h5>\n",
      "         <p _ngcontent-sc67=\"\" class=\"card-text text-center\">\n",
      "          Learn programming from these free courses. Examples are available with these tutorials. You can contact me for any doubt and I will get back to you!\n",
      "         </p>\n",
      "         <a _ngcontent-sc67=\"\" class=\"btn btn-primary d-block\" href=\"/contact\" routerlink=\"/contact\">\n",
      "          Contact Me\n",
      "         </a>\n",
      "        </div>\n",
      "       </div>\n",
      "      </div>\n",
      "     </div>\n",
      "    </app-homepage>\n",
      "    <!-- -->\n",
      "   </div>\n",
      "   <app-footer _ngcontent-sc76=\"\" _nghost-sc75=\"\">\n",
      "    <footer _ngcontent-sc75=\"\" class=\"container-fluid bg-dark my-0 py-3 text-light\">\n",
      "     <p _ngcontent-sc75=\"\" class=\"mb-0 text-center\">\n",
      "      Copyright © 2020-2021 CodeWithHarry.com\n",
      "     </p>\n",
      "    </footer>\n",
      "   </app-footer>\n",
      "  </app-root>\n",
      "  <script defer=\"\" src=\"runtime.7b63b9fd40098a2e8207.js\">\n",
      "  </script>\n",
      "  <script defer=\"\" src=\"polyfills.00096ed7d93ed26ee6df.js\">\n",
      "  </script>\n",
      "  <script defer=\"\" src=\"scripts.2558b03aa1b9660ed84d.js\">\n",
      "  </script>\n",
      "  <script defer=\"\" src=\"main.bd8a3a7a366ac101c3dc.js\">\n",
      "  </script>\n",
      "  <script id=\"serverApp-state\" type=\"application/json\">\n",
      "   {}\n",
      "  </script>\n",
      " </body>\n",
      " <!-- This page was prerendered with Angular Universal -->\n",
      "</html>\n"
     ]
    }
   ],
   "source": [
    "soup = BeautifulSoup(htmlContent, 'html.parser')\n",
    "print(soup.prettify())"
   ]
  },
  {
   "cell_type": "code",
   "execution_count": 96,
   "metadata": {},
   "outputs": [
    {
     "name": "stdout",
     "output_type": "stream",
     "text": [
      "[<p _ngcontent-sc67=\"\" class=\"lead text-muted\">Confused on which course to take? I have got you covered. Browse courses and find out the best course for you. Its free!<br _ngcontent-sc67=\"\"/>Code With Harry is my attempt to teach basics and those coding techniques to people in short time which took me ages to learn.</p>, <p _ngcontent-sc67=\"\"><a _ngcontent-sc67=\"\" class=\"btn btn-danger my-2\" href=\"/blog\" routerlink=\"/blog\">Browse Blog</a><a _ngcontent-sc67=\"\" class=\"btn btn-success my-2\" href=\"/videos\" routerlink=\"/videos\">Browse Video Tutorials</a><a _ngcontent-sc67=\"\" class=\"btn btn-primary my-2\" href=\"/contact\" routerlink=\"/contact\">Contact Me</a></p>, <p _ngcontent-sc67=\"\" class=\"card-text text-center\">Get your programming career started with these free video courses. Source code is available with all the videos for amazing learning experience</p>, <p _ngcontent-sc67=\"\" class=\"card-text text-center\">Some of the latest coding information compiled in the form of coding articles. Keep your programming knowledge up to date with these articles.</p>, <p _ngcontent-sc67=\"\" class=\"card-text text-center\">Learn programming from these free courses. Examples are available with these tutorials. You can contact me for any doubt and I will get back to you!</p>, <p _ngcontent-sc75=\"\" class=\"mb-0 text-center\">Copyright © 2020-2021 CodeWithHarry.com</p>]\n"
     ]
    }
   ],
   "source": [
    "## find all the paragraphs\n",
    "\n",
    "paras = soup.find_all(\"p\")\n",
    "\n",
    "print(list(paras))"
   ]
  },
  {
   "cell_type": "code",
   "execution_count": 97,
   "metadata": {},
   "outputs": [
    {
     "name": "stdout",
     "output_type": "stream",
     "text": [
      "[]\n"
     ]
    }
   ],
   "source": [
    "## Same, we can print all the headers\n",
    "\n",
    "headers = soup.find_all(\"h\")\n",
    "\n",
    "print(list(headers))\n",
    "\n",
    "## says there is no h tags!!"
   ]
  },
  {
   "cell_type": "code",
   "execution_count": 98,
   "metadata": {},
   "outputs": [
    {
     "name": "stdout",
     "output_type": "stream",
     "text": [
      "<p _ngcontent-sc67=\"\" class=\"lead text-muted\">Confused on which course to take? I have got you covered. Browse courses and find out the best course for you. Its free!<br _ngcontent-sc67=\"\"/>Code With Harry is my attempt to teach basics and those coding techniques to people in short time which took me ages to learn.</p>\n"
     ]
    }
   ],
   "source": [
    "print(soup.find(\"p\")) ## this gives first mentioned element"
   ]
  },
  {
   "cell_type": "code",
   "execution_count": 99,
   "metadata": {},
   "outputs": [
    {
     "name": "stdout",
     "output_type": "stream",
     "text": [
      "['lead', 'text-muted']\n"
     ]
    }
   ],
   "source": [
    "print(soup.find(\"p\")[\"class\"]) ## gives all the classes for mentioned element"
   ]
  },
  {
   "cell_type": "code",
   "execution_count": 103,
   "metadata": {},
   "outputs": [
    {
     "name": "stdout",
     "output_type": "stream",
     "text": [
      "[<p _ngcontent-sc67=\"\" class=\"lead text-muted\">Confused on which course to take? I have got you covered. Browse courses and find out the best course for you. Its free!<br _ngcontent-sc67=\"\"/>Code With Harry is my attempt to teach basics and those coding techniques to people in short time which took me ages to learn.</p>]\n"
     ]
    }
   ],
   "source": [
    "print(soup.find_all(\"p\", class_ = \"lead\"))"
   ]
  },
  {
   "cell_type": "code",
   "execution_count": 107,
   "metadata": {},
   "outputs": [
    {
     "name": "stdout",
     "output_type": "stream",
     "text": [
      "[<p _ngcontent-sc67=\"\" class=\"lead text-muted\">Confused on which course to take? I have got you covered. Browse courses and find out the best course for you. Its free!<br _ngcontent-sc67=\"\"/>Code With Harry is my attempt to teach basics and those coding techniques to people in short time which took me ages to learn.</p>]\n"
     ]
    }
   ],
   "source": [
    "print(soup.find_all(\"p\", class_ = \"text-muted\"))"
   ]
  },
  {
   "cell_type": "code",
   "execution_count": 106,
   "metadata": {},
   "outputs": [
    {
     "name": "stdout",
     "output_type": "stream",
     "text": [
      "Confused on which course to take? I have got you covered. Browse courses and find out the best course for you. Its free!Code With Harry is my attempt to teach basics and those coding techniques to people in short time which took me ages to learn.\n"
     ]
    }
   ],
   "source": [
    "print(soup.find(\"p\").get_text())"
   ]
  },
  {
   "cell_type": "code",
   "execution_count": 114,
   "metadata": {},
   "outputs": [
    {
     "name": "stdout",
     "output_type": "stream",
     "text": [
      "\n",
      "\n",
      "Home - CodeWithHarry\n",
      "\n",
      "\n",
      "\n",
      "\n",
      "\n",
      "\n",
      "\n",
      "\n",
      "\n",
      "\n",
      "\n",
      "\n",
      "HomeVideosBlogContact MeSearchLoginSignUp or Login via username×UsernamePassword LoginForgot Password?Close or SignUp for an account×Username Your unique username must 4 - 10 characters (only lowecase letters, numbers & underscores allowed) with no spaces NameYour Email Send OTPEnter OTPChoose a password (At least 4 characters)Retype your password SignUpCloseConfused on which course to take? I have got you covered. Browse courses and find out the best course for you. Its free!Code With Harry is my attempt to teach basics and those coding techniques to people in short time which took me ages to learn.Browse BlogBrowse Video TutorialsContact MeFree Video CoursesGet your programming career started with these free video courses. Source code is available with all the videos for amazing learning experienceBrowse Video CoursesCoding ArticlesSome of the latest coding information compiled in the form of coding articles. Keep your programming knowledge up to date with these articles.Go to BlogContact MeLearn programming from these free courses. Examples are available with these tutorials. You can contact me for any doubt and I will get back to you!Contact MeCopyright © 2020-2021 CodeWithHarry.com\n",
      "\n",
      "\n"
     ]
    }
   ],
   "source": [
    "## .get_text() method return all the inserted text from the soup file or mentioned element\n",
    "\n",
    "print(soup.get_text())"
   ]
  },
  {
   "cell_type": "code",
   "execution_count": 147,
   "metadata": {},
   "outputs": [
    {
     "name": "stdout",
     "output_type": "stream",
     "text": [
      "{'https://codewithharry.com/blog', 'https://codewithharry.com/contact', 'https://codewithharry.com/videos'}\n"
     ]
    }
   ],
   "source": [
    "## now, to retrieve href is common task in web scrapping and it is done in <a> tag!!\n",
    "\n",
    "att = soup.find_all(\"a\") \n",
    "\n",
    "\n",
    "## now this for loop can be modified as it return some of the same links.\n",
    "\n",
    "\n",
    "s = set()\n",
    "\n",
    "for link in att:\n",
    "    if (link.get(\"href\")) != \"/\":\n",
    "        link_1 = url + link.get(\"href\")\n",
    "        s.add(link_1)\n",
    "print(s)\n"
   ]
  },
  {
   "cell_type": "code",
   "execution_count": 176,
   "metadata": {
    "collapsed": true
   },
   "outputs": [
    {
     "data": {
      "text/plain": [
       "[<div _ngcontent-sc74=\"\" class=\"collapse navbar-collapse\" id=\"navbarSupportedContent\"><ul _ngcontent-sc74=\"\" class=\"navbar-nav mr-auto\"><li _ngcontent-sc74=\"\" class=\"nav-item font-weight-bold\"><a _ngcontent-sc74=\"\" class=\"nav-link\" href=\"/\" routerlink=\"/\">Home</a></li><li _ngcontent-sc74=\"\" class=\"nav-item font-weight-bold\"><a _ngcontent-sc74=\"\" class=\"nav-link\" href=\"/videos\" routerlink=\"/videos\">Videos</a></li><li _ngcontent-sc74=\"\" class=\"nav-item font-weight-bold\"><a _ngcontent-sc74=\"\" class=\"nav-link\" href=\"/blog\" routerlink=\"/blog\">Blog</a></li><li _ngcontent-sc74=\"\" class=\"nav-item font-weight-bold\"><a _ngcontent-sc74=\"\" class=\"nav-link\" href=\"/contact\" routerlink=\"/contact\">Contact Me</a></li></ul><form _ngcontent-sc74=\"\" class=\"form-inline my-2 my-lg-0 mr-3 ng-untouched ng-pristine ng-valid\" novalidate=\"\"><input _ngcontent-sc74=\"\" aria-label=\"Search\" class=\"form-control mr-sm-2 ng-untouched ng-pristine ng-valid\" name=\"query\" placeholder=\"Search\" type=\"text\" value=\"\"/><button _ngcontent-sc74=\"\" class=\"btn btn-danger my-2 my-sm-0\" type=\"submit\">Search</button></form><div _ngcontent-sc74=\"\" class=\"mx-0\"><button _ngcontent-sc74=\"\" class=\"btn btn-danger mr-2\" data-target=\"#loginModal\" data-toggle=\"modal\" type=\"button\">Login</button><button _ngcontent-sc74=\"\" class=\"btn btn-danger\" data-target=\"#signupModal\" data-toggle=\"modal\" type=\"button\">SignUp</button></div><!-- --><!-- --></div>,\n",
       " <div _ngcontent-sc74=\"\" class=\"mx-0\"><button _ngcontent-sc74=\"\" class=\"btn btn-danger mr-2\" data-target=\"#loginModal\" data-toggle=\"modal\" type=\"button\">Login</button><button _ngcontent-sc74=\"\" class=\"btn btn-danger\" data-target=\"#signupModal\" data-toggle=\"modal\" type=\"button\">SignUp</button></div>,\n",
       " <div _ngcontent-sc74=\"\" aria-hidden=\"true\" aria-labelledby=\"loginModal\" class=\"modal fade\" id=\"loginModal\" role=\"dialog\" tabindex=\"-1\"><div _ngcontent-sc74=\"\" class=\"modal-dialog\" role=\"document\"><div _ngcontent-sc74=\"\" class=\"modal-content\"><div _ngcontent-sc74=\"\" class=\"modal-header\"><img _ngcontent-sc74=\"\" alt=\"Login with Google\" class=\"googleAuth mx-2\" height=\"42.75px\" src=\"../../../assets/img/googleLogin.png\" width=\"25%\"/><div _ngcontent-sc74=\"\" class=\"or mx-3\"> or </div><h5 _ngcontent-sc74=\"\" class=\"modal-title\" id=\"loginModalTitle\">Login via username</h5><button _ngcontent-sc74=\"\" aria-label=\"Close\" class=\"close\" data-dismiss=\"modal\" type=\"button\"><span _ngcontent-sc74=\"\" aria-hidden=\"true\">×</span></button></div><div _ngcontent-sc74=\"\" class=\"modal-body\"><form _ngcontent-sc74=\"\" class=\"ng-untouched ng-pristine ng-invalid\" method=\"post\" novalidate=\"\"><div _ngcontent-sc74=\"\" class=\"form-group\"><label _ngcontent-sc74=\"\" for=\"username\">Username</label><input _ngcontent-sc74=\"\" class=\"form-control ng-untouched ng-pristine ng-invalid\" id=\"username\" maxlength=\"10\" minlength=\"2\" name=\"username\" pattern=\"[a-zA-Z0-9 ]*\" placeholder=\"Enter your username\" required=\"\" type=\"text\" value=\"\"/><!-- --></div><div _ngcontent-sc74=\"\" class=\"form-group\"><label _ngcontent-sc74=\"\" for=\"loginpassword\">Password</label><input _ngcontent-sc74=\"\" class=\"form-control ng-untouched ng-pristine ng-invalid\" id=\"loginpassword\" name=\"loginpassword\" placeholder=\"Enter your password\" required=\"\" type=\"password\" value=\"\"/></div><button _ngcontent-sc74=\"\" class=\"btn btn-danger mt-2\" disabled=\"\" id=\"loginsubmit\" type=\"submit\"><!-- --> Login</button></form><!-- --><!-- --><!-- --><div _ngcontent-sc74=\"\" class=\"forgot\"><span _ngcontent-sc74=\"\">Forgot Password?</span></div></div><div _ngcontent-sc74=\"\" class=\"modal-footer\"><button _ngcontent-sc74=\"\" class=\"btn btn-secondary\" data-dismiss=\"modal\" type=\"button\">Close</button></div></div></div></div>,\n",
       " <div _ngcontent-sc74=\"\" class=\"modal-dialog\" role=\"document\"><div _ngcontent-sc74=\"\" class=\"modal-content\"><div _ngcontent-sc74=\"\" class=\"modal-header\"><img _ngcontent-sc74=\"\" alt=\"Login with Google\" class=\"googleAuth mx-2\" height=\"42.75px\" src=\"../../../assets/img/googleLogin.png\" width=\"25%\"/><div _ngcontent-sc74=\"\" class=\"or mx-3\"> or </div><h5 _ngcontent-sc74=\"\" class=\"modal-title\" id=\"loginModalTitle\">Login via username</h5><button _ngcontent-sc74=\"\" aria-label=\"Close\" class=\"close\" data-dismiss=\"modal\" type=\"button\"><span _ngcontent-sc74=\"\" aria-hidden=\"true\">×</span></button></div><div _ngcontent-sc74=\"\" class=\"modal-body\"><form _ngcontent-sc74=\"\" class=\"ng-untouched ng-pristine ng-invalid\" method=\"post\" novalidate=\"\"><div _ngcontent-sc74=\"\" class=\"form-group\"><label _ngcontent-sc74=\"\" for=\"username\">Username</label><input _ngcontent-sc74=\"\" class=\"form-control ng-untouched ng-pristine ng-invalid\" id=\"username\" maxlength=\"10\" minlength=\"2\" name=\"username\" pattern=\"[a-zA-Z0-9 ]*\" placeholder=\"Enter your username\" required=\"\" type=\"text\" value=\"\"/><!-- --></div><div _ngcontent-sc74=\"\" class=\"form-group\"><label _ngcontent-sc74=\"\" for=\"loginpassword\">Password</label><input _ngcontent-sc74=\"\" class=\"form-control ng-untouched ng-pristine ng-invalid\" id=\"loginpassword\" name=\"loginpassword\" placeholder=\"Enter your password\" required=\"\" type=\"password\" value=\"\"/></div><button _ngcontent-sc74=\"\" class=\"btn btn-danger mt-2\" disabled=\"\" id=\"loginsubmit\" type=\"submit\"><!-- --> Login</button></form><!-- --><!-- --><!-- --><div _ngcontent-sc74=\"\" class=\"forgot\"><span _ngcontent-sc74=\"\">Forgot Password?</span></div></div><div _ngcontent-sc74=\"\" class=\"modal-footer\"><button _ngcontent-sc74=\"\" class=\"btn btn-secondary\" data-dismiss=\"modal\" type=\"button\">Close</button></div></div></div>,\n",
       " <div _ngcontent-sc74=\"\" class=\"modal-content\"><div _ngcontent-sc74=\"\" class=\"modal-header\"><img _ngcontent-sc74=\"\" alt=\"Login with Google\" class=\"googleAuth mx-2\" height=\"42.75px\" src=\"../../../assets/img/googleLogin.png\" width=\"25%\"/><div _ngcontent-sc74=\"\" class=\"or mx-3\"> or </div><h5 _ngcontent-sc74=\"\" class=\"modal-title\" id=\"loginModalTitle\">Login via username</h5><button _ngcontent-sc74=\"\" aria-label=\"Close\" class=\"close\" data-dismiss=\"modal\" type=\"button\"><span _ngcontent-sc74=\"\" aria-hidden=\"true\">×</span></button></div><div _ngcontent-sc74=\"\" class=\"modal-body\"><form _ngcontent-sc74=\"\" class=\"ng-untouched ng-pristine ng-invalid\" method=\"post\" novalidate=\"\"><div _ngcontent-sc74=\"\" class=\"form-group\"><label _ngcontent-sc74=\"\" for=\"username\">Username</label><input _ngcontent-sc74=\"\" class=\"form-control ng-untouched ng-pristine ng-invalid\" id=\"username\" maxlength=\"10\" minlength=\"2\" name=\"username\" pattern=\"[a-zA-Z0-9 ]*\" placeholder=\"Enter your username\" required=\"\" type=\"text\" value=\"\"/><!-- --></div><div _ngcontent-sc74=\"\" class=\"form-group\"><label _ngcontent-sc74=\"\" for=\"loginpassword\">Password</label><input _ngcontent-sc74=\"\" class=\"form-control ng-untouched ng-pristine ng-invalid\" id=\"loginpassword\" name=\"loginpassword\" placeholder=\"Enter your password\" required=\"\" type=\"password\" value=\"\"/></div><button _ngcontent-sc74=\"\" class=\"btn btn-danger mt-2\" disabled=\"\" id=\"loginsubmit\" type=\"submit\"><!-- --> Login</button></form><!-- --><!-- --><!-- --><div _ngcontent-sc74=\"\" class=\"forgot\"><span _ngcontent-sc74=\"\">Forgot Password?</span></div></div><div _ngcontent-sc74=\"\" class=\"modal-footer\"><button _ngcontent-sc74=\"\" class=\"btn btn-secondary\" data-dismiss=\"modal\" type=\"button\">Close</button></div></div>,\n",
       " <div _ngcontent-sc74=\"\" class=\"modal-header\"><img _ngcontent-sc74=\"\" alt=\"Login with Google\" class=\"googleAuth mx-2\" height=\"42.75px\" src=\"../../../assets/img/googleLogin.png\" width=\"25%\"/><div _ngcontent-sc74=\"\" class=\"or mx-3\"> or </div><h5 _ngcontent-sc74=\"\" class=\"modal-title\" id=\"loginModalTitle\">Login via username</h5><button _ngcontent-sc74=\"\" aria-label=\"Close\" class=\"close\" data-dismiss=\"modal\" type=\"button\"><span _ngcontent-sc74=\"\" aria-hidden=\"true\">×</span></button></div>,\n",
       " <div _ngcontent-sc74=\"\" class=\"or mx-3\"> or </div>,\n",
       " <div _ngcontent-sc74=\"\" class=\"modal-body\"><form _ngcontent-sc74=\"\" class=\"ng-untouched ng-pristine ng-invalid\" method=\"post\" novalidate=\"\"><div _ngcontent-sc74=\"\" class=\"form-group\"><label _ngcontent-sc74=\"\" for=\"username\">Username</label><input _ngcontent-sc74=\"\" class=\"form-control ng-untouched ng-pristine ng-invalid\" id=\"username\" maxlength=\"10\" minlength=\"2\" name=\"username\" pattern=\"[a-zA-Z0-9 ]*\" placeholder=\"Enter your username\" required=\"\" type=\"text\" value=\"\"/><!-- --></div><div _ngcontent-sc74=\"\" class=\"form-group\"><label _ngcontent-sc74=\"\" for=\"loginpassword\">Password</label><input _ngcontent-sc74=\"\" class=\"form-control ng-untouched ng-pristine ng-invalid\" id=\"loginpassword\" name=\"loginpassword\" placeholder=\"Enter your password\" required=\"\" type=\"password\" value=\"\"/></div><button _ngcontent-sc74=\"\" class=\"btn btn-danger mt-2\" disabled=\"\" id=\"loginsubmit\" type=\"submit\"><!-- --> Login</button></form><!-- --><!-- --><!-- --><div _ngcontent-sc74=\"\" class=\"forgot\"><span _ngcontent-sc74=\"\">Forgot Password?</span></div></div>,\n",
       " <div _ngcontent-sc74=\"\" class=\"form-group\"><label _ngcontent-sc74=\"\" for=\"username\">Username</label><input _ngcontent-sc74=\"\" class=\"form-control ng-untouched ng-pristine ng-invalid\" id=\"username\" maxlength=\"10\" minlength=\"2\" name=\"username\" pattern=\"[a-zA-Z0-9 ]*\" placeholder=\"Enter your username\" required=\"\" type=\"text\" value=\"\"/><!-- --></div>,\n",
       " <div _ngcontent-sc74=\"\" class=\"form-group\"><label _ngcontent-sc74=\"\" for=\"loginpassword\">Password</label><input _ngcontent-sc74=\"\" class=\"form-control ng-untouched ng-pristine ng-invalid\" id=\"loginpassword\" name=\"loginpassword\" placeholder=\"Enter your password\" required=\"\" type=\"password\" value=\"\"/></div>,\n",
       " <div _ngcontent-sc74=\"\" class=\"forgot\"><span _ngcontent-sc74=\"\">Forgot Password?</span></div>,\n",
       " <div _ngcontent-sc74=\"\" class=\"modal-footer\"><button _ngcontent-sc74=\"\" class=\"btn btn-secondary\" data-dismiss=\"modal\" type=\"button\">Close</button></div>,\n",
       " <div _ngcontent-sc74=\"\" aria-hidden=\"true\" aria-labelledby=\"signupModal\" class=\"modal fade\" id=\"signupModal\" role=\"dialog\" tabindex=\"-1\"><div _ngcontent-sc74=\"\" class=\"modal-dialog\" role=\"document\"><div _ngcontent-sc74=\"\" class=\"modal-content\"><div _ngcontent-sc74=\"\" class=\"modal-header\"><img _ngcontent-sc74=\"\" alt=\"Signup with Google\" class=\"googleAuth mx-2\" height=\"42.75px\" src=\"../../../assets/img/googleSignUp.png\" width=\"25%\"/><div _ngcontent-sc74=\"\" class=\"or mx-3\"> or </div><h5 _ngcontent-sc74=\"\" class=\"modal-title\" id=\"signupModal\">SignUp for an account</h5><button _ngcontent-sc74=\"\" aria-label=\"Close\" class=\"close\" data-dismiss=\"modal\" type=\"button\"><span _ngcontent-sc74=\"\" aria-hidden=\"true\">×</span></button></div><div _ngcontent-sc74=\"\" class=\"modal-body\"><form _ngcontent-sc74=\"\" class=\"ng-untouched ng-pristine ng-invalid\" method=\"post\" novalidate=\"\"><div _ngcontent-sc74=\"\" class=\"form-group\"><label _ngcontent-sc74=\"\" for=\"uname\">Username</label><input _ngcontent-sc74=\"\" class=\"form-control ng-untouched ng-pristine ng-invalid\" id=\"signupUserName\" maxlength=\"10\" minlength=\"4\" name=\"signupUserName\" ngmodel=\"\" pattern=\"[a-zA-Z0-9_ ]*\" placeholder=\"Enter your username\" required=\"\" type=\"text\" value=\"\"/><!-- --><small _ngcontent-sc74=\"\" class=\"form-text text-muted px-1\" id=\"unamehelp\"> Your unique username must 4 - 10 characters (only lowecase letters, numbers &amp; underscores allowed) with no spaces </small></div><div _ngcontent-sc74=\"\" class=\"form-group\"><label _ngcontent-sc74=\"\" for=\"signupName\">Name</label><input _ngcontent-sc74=\"\" class=\"form-control ng-untouched ng-pristine ng-valid\" id=\"signupName\" maxlength=\"30\" name=\"signupName\" ngmodel=\"\" placeholder=\"Enter your Name\" type=\"text\" value=\"\"/></div><div _ngcontent-sc74=\"\" class=\"form-group\"><label _ngcontent-sc74=\"\" for=\"email\">Your Email</label><div _ngcontent-sc74=\"\" class=\"mx-0\"><div _ngcontent-sc74=\"\" class=\"col-md-8 px-0\"><input _ngcontent-sc74=\"\" class=\"form-control ng-untouched ng-pristine ng-invalid\" email=\"\" id=\"signupEmail\" maxlength=\"40\" name=\"signupEmail\" placeholder=\"Enter your Email\" required=\"\" type=\"email\" value=\"\"/><!-- --><!-- --></div><div _ngcontent-sc74=\"\" class=\"col-md-4 my-1 px-0\"><button _ngcontent-sc74=\"\" class=\"btn btn-danger btn-sm mt-2\" disabled=\"\" id=\"otpbtn\" type=\"button\"><!-- --> Send OTP</button></div></div></div><div _ngcontent-sc74=\"\" class=\"form-group\"><label _ngcontent-sc74=\"\" for=\"otp\">Enter OTP</label><input _ngcontent-sc74=\"\" class=\"form-control ng-untouched ng-pristine ng-invalid\" id=\"signupOTP\" name=\"signupOTP\" ngmodel=\"\" placeholder=\"Enter OTP\" required=\"\" type=\"number\" value=\"\"/></div><div _ngcontent-sc74=\"\" class=\"form-group\"><label _ngcontent-sc74=\"\" for=\"signupPassword1\">Choose a password (At least 4 characters)</label><input _ngcontent-sc74=\"\" class=\"form-control ng-untouched ng-pristine ng-valid\" id=\"signupPassword1\" maxlength=\"20\" minlength=\"4\" name=\"signupPassword1\" ngmodel=\"\" placeholder=\"Choose a password\" type=\"password\" value=\"\"/></div><div _ngcontent-sc74=\"\" class=\"form-group mb-0\"><label _ngcontent-sc74=\"\" for=\"signupPassword2\">Retype your password</label><input _ngcontent-sc74=\"\" class=\"form-control ng-untouched ng-pristine ng-valid\" id=\"signupPassword2\" maxlength=\"20\" minlength=\"4\" name=\"signupPassword2\" ngmodel=\"\" placeholder=\"Retype your password\" type=\"password\" value=\"\"/></div><!-- --><!-- --><!-- --><!-- --><button _ngcontent-sc74=\"\" class=\"btn btn-danger mt-4\" disabled=\"\" type=\"submit\"><!-- --> SignUp</button></form></div><div _ngcontent-sc74=\"\" class=\"modal-footer\"><button _ngcontent-sc74=\"\" class=\"btn btn-secondary\" data-dismiss=\"modal\" type=\"button\">Close</button></div></div></div></div>,\n",
       " <div _ngcontent-sc74=\"\" class=\"modal-dialog\" role=\"document\"><div _ngcontent-sc74=\"\" class=\"modal-content\"><div _ngcontent-sc74=\"\" class=\"modal-header\"><img _ngcontent-sc74=\"\" alt=\"Signup with Google\" class=\"googleAuth mx-2\" height=\"42.75px\" src=\"../../../assets/img/googleSignUp.png\" width=\"25%\"/><div _ngcontent-sc74=\"\" class=\"or mx-3\"> or </div><h5 _ngcontent-sc74=\"\" class=\"modal-title\" id=\"signupModal\">SignUp for an account</h5><button _ngcontent-sc74=\"\" aria-label=\"Close\" class=\"close\" data-dismiss=\"modal\" type=\"button\"><span _ngcontent-sc74=\"\" aria-hidden=\"true\">×</span></button></div><div _ngcontent-sc74=\"\" class=\"modal-body\"><form _ngcontent-sc74=\"\" class=\"ng-untouched ng-pristine ng-invalid\" method=\"post\" novalidate=\"\"><div _ngcontent-sc74=\"\" class=\"form-group\"><label _ngcontent-sc74=\"\" for=\"uname\">Username</label><input _ngcontent-sc74=\"\" class=\"form-control ng-untouched ng-pristine ng-invalid\" id=\"signupUserName\" maxlength=\"10\" minlength=\"4\" name=\"signupUserName\" ngmodel=\"\" pattern=\"[a-zA-Z0-9_ ]*\" placeholder=\"Enter your username\" required=\"\" type=\"text\" value=\"\"/><!-- --><small _ngcontent-sc74=\"\" class=\"form-text text-muted px-1\" id=\"unamehelp\"> Your unique username must 4 - 10 characters (only lowecase letters, numbers &amp; underscores allowed) with no spaces </small></div><div _ngcontent-sc74=\"\" class=\"form-group\"><label _ngcontent-sc74=\"\" for=\"signupName\">Name</label><input _ngcontent-sc74=\"\" class=\"form-control ng-untouched ng-pristine ng-valid\" id=\"signupName\" maxlength=\"30\" name=\"signupName\" ngmodel=\"\" placeholder=\"Enter your Name\" type=\"text\" value=\"\"/></div><div _ngcontent-sc74=\"\" class=\"form-group\"><label _ngcontent-sc74=\"\" for=\"email\">Your Email</label><div _ngcontent-sc74=\"\" class=\"mx-0\"><div _ngcontent-sc74=\"\" class=\"col-md-8 px-0\"><input _ngcontent-sc74=\"\" class=\"form-control ng-untouched ng-pristine ng-invalid\" email=\"\" id=\"signupEmail\" maxlength=\"40\" name=\"signupEmail\" placeholder=\"Enter your Email\" required=\"\" type=\"email\" value=\"\"/><!-- --><!-- --></div><div _ngcontent-sc74=\"\" class=\"col-md-4 my-1 px-0\"><button _ngcontent-sc74=\"\" class=\"btn btn-danger btn-sm mt-2\" disabled=\"\" id=\"otpbtn\" type=\"button\"><!-- --> Send OTP</button></div></div></div><div _ngcontent-sc74=\"\" class=\"form-group\"><label _ngcontent-sc74=\"\" for=\"otp\">Enter OTP</label><input _ngcontent-sc74=\"\" class=\"form-control ng-untouched ng-pristine ng-invalid\" id=\"signupOTP\" name=\"signupOTP\" ngmodel=\"\" placeholder=\"Enter OTP\" required=\"\" type=\"number\" value=\"\"/></div><div _ngcontent-sc74=\"\" class=\"form-group\"><label _ngcontent-sc74=\"\" for=\"signupPassword1\">Choose a password (At least 4 characters)</label><input _ngcontent-sc74=\"\" class=\"form-control ng-untouched ng-pristine ng-valid\" id=\"signupPassword1\" maxlength=\"20\" minlength=\"4\" name=\"signupPassword1\" ngmodel=\"\" placeholder=\"Choose a password\" type=\"password\" value=\"\"/></div><div _ngcontent-sc74=\"\" class=\"form-group mb-0\"><label _ngcontent-sc74=\"\" for=\"signupPassword2\">Retype your password</label><input _ngcontent-sc74=\"\" class=\"form-control ng-untouched ng-pristine ng-valid\" id=\"signupPassword2\" maxlength=\"20\" minlength=\"4\" name=\"signupPassword2\" ngmodel=\"\" placeholder=\"Retype your password\" type=\"password\" value=\"\"/></div><!-- --><!-- --><!-- --><!-- --><button _ngcontent-sc74=\"\" class=\"btn btn-danger mt-4\" disabled=\"\" type=\"submit\"><!-- --> SignUp</button></form></div><div _ngcontent-sc74=\"\" class=\"modal-footer\"><button _ngcontent-sc74=\"\" class=\"btn btn-secondary\" data-dismiss=\"modal\" type=\"button\">Close</button></div></div></div>,\n",
       " <div _ngcontent-sc74=\"\" class=\"modal-content\"><div _ngcontent-sc74=\"\" class=\"modal-header\"><img _ngcontent-sc74=\"\" alt=\"Signup with Google\" class=\"googleAuth mx-2\" height=\"42.75px\" src=\"../../../assets/img/googleSignUp.png\" width=\"25%\"/><div _ngcontent-sc74=\"\" class=\"or mx-3\"> or </div><h5 _ngcontent-sc74=\"\" class=\"modal-title\" id=\"signupModal\">SignUp for an account</h5><button _ngcontent-sc74=\"\" aria-label=\"Close\" class=\"close\" data-dismiss=\"modal\" type=\"button\"><span _ngcontent-sc74=\"\" aria-hidden=\"true\">×</span></button></div><div _ngcontent-sc74=\"\" class=\"modal-body\"><form _ngcontent-sc74=\"\" class=\"ng-untouched ng-pristine ng-invalid\" method=\"post\" novalidate=\"\"><div _ngcontent-sc74=\"\" class=\"form-group\"><label _ngcontent-sc74=\"\" for=\"uname\">Username</label><input _ngcontent-sc74=\"\" class=\"form-control ng-untouched ng-pristine ng-invalid\" id=\"signupUserName\" maxlength=\"10\" minlength=\"4\" name=\"signupUserName\" ngmodel=\"\" pattern=\"[a-zA-Z0-9_ ]*\" placeholder=\"Enter your username\" required=\"\" type=\"text\" value=\"\"/><!-- --><small _ngcontent-sc74=\"\" class=\"form-text text-muted px-1\" id=\"unamehelp\"> Your unique username must 4 - 10 characters (only lowecase letters, numbers &amp; underscores allowed) with no spaces </small></div><div _ngcontent-sc74=\"\" class=\"form-group\"><label _ngcontent-sc74=\"\" for=\"signupName\">Name</label><input _ngcontent-sc74=\"\" class=\"form-control ng-untouched ng-pristine ng-valid\" id=\"signupName\" maxlength=\"30\" name=\"signupName\" ngmodel=\"\" placeholder=\"Enter your Name\" type=\"text\" value=\"\"/></div><div _ngcontent-sc74=\"\" class=\"form-group\"><label _ngcontent-sc74=\"\" for=\"email\">Your Email</label><div _ngcontent-sc74=\"\" class=\"mx-0\"><div _ngcontent-sc74=\"\" class=\"col-md-8 px-0\"><input _ngcontent-sc74=\"\" class=\"form-control ng-untouched ng-pristine ng-invalid\" email=\"\" id=\"signupEmail\" maxlength=\"40\" name=\"signupEmail\" placeholder=\"Enter your Email\" required=\"\" type=\"email\" value=\"\"/><!-- --><!-- --></div><div _ngcontent-sc74=\"\" class=\"col-md-4 my-1 px-0\"><button _ngcontent-sc74=\"\" class=\"btn btn-danger btn-sm mt-2\" disabled=\"\" id=\"otpbtn\" type=\"button\"><!-- --> Send OTP</button></div></div></div><div _ngcontent-sc74=\"\" class=\"form-group\"><label _ngcontent-sc74=\"\" for=\"otp\">Enter OTP</label><input _ngcontent-sc74=\"\" class=\"form-control ng-untouched ng-pristine ng-invalid\" id=\"signupOTP\" name=\"signupOTP\" ngmodel=\"\" placeholder=\"Enter OTP\" required=\"\" type=\"number\" value=\"\"/></div><div _ngcontent-sc74=\"\" class=\"form-group\"><label _ngcontent-sc74=\"\" for=\"signupPassword1\">Choose a password (At least 4 characters)</label><input _ngcontent-sc74=\"\" class=\"form-control ng-untouched ng-pristine ng-valid\" id=\"signupPassword1\" maxlength=\"20\" minlength=\"4\" name=\"signupPassword1\" ngmodel=\"\" placeholder=\"Choose a password\" type=\"password\" value=\"\"/></div><div _ngcontent-sc74=\"\" class=\"form-group mb-0\"><label _ngcontent-sc74=\"\" for=\"signupPassword2\">Retype your password</label><input _ngcontent-sc74=\"\" class=\"form-control ng-untouched ng-pristine ng-valid\" id=\"signupPassword2\" maxlength=\"20\" minlength=\"4\" name=\"signupPassword2\" ngmodel=\"\" placeholder=\"Retype your password\" type=\"password\" value=\"\"/></div><!-- --><!-- --><!-- --><!-- --><button _ngcontent-sc74=\"\" class=\"btn btn-danger mt-4\" disabled=\"\" type=\"submit\"><!-- --> SignUp</button></form></div><div _ngcontent-sc74=\"\" class=\"modal-footer\"><button _ngcontent-sc74=\"\" class=\"btn btn-secondary\" data-dismiss=\"modal\" type=\"button\">Close</button></div></div>,\n",
       " <div _ngcontent-sc74=\"\" class=\"modal-header\"><img _ngcontent-sc74=\"\" alt=\"Signup with Google\" class=\"googleAuth mx-2\" height=\"42.75px\" src=\"../../../assets/img/googleSignUp.png\" width=\"25%\"/><div _ngcontent-sc74=\"\" class=\"or mx-3\"> or </div><h5 _ngcontent-sc74=\"\" class=\"modal-title\" id=\"signupModal\">SignUp for an account</h5><button _ngcontent-sc74=\"\" aria-label=\"Close\" class=\"close\" data-dismiss=\"modal\" type=\"button\"><span _ngcontent-sc74=\"\" aria-hidden=\"true\">×</span></button></div>,\n",
       " <div _ngcontent-sc74=\"\" class=\"or mx-3\"> or </div>,\n",
       " <div _ngcontent-sc74=\"\" class=\"modal-body\"><form _ngcontent-sc74=\"\" class=\"ng-untouched ng-pristine ng-invalid\" method=\"post\" novalidate=\"\"><div _ngcontent-sc74=\"\" class=\"form-group\"><label _ngcontent-sc74=\"\" for=\"uname\">Username</label><input _ngcontent-sc74=\"\" class=\"form-control ng-untouched ng-pristine ng-invalid\" id=\"signupUserName\" maxlength=\"10\" minlength=\"4\" name=\"signupUserName\" ngmodel=\"\" pattern=\"[a-zA-Z0-9_ ]*\" placeholder=\"Enter your username\" required=\"\" type=\"text\" value=\"\"/><!-- --><small _ngcontent-sc74=\"\" class=\"form-text text-muted px-1\" id=\"unamehelp\"> Your unique username must 4 - 10 characters (only lowecase letters, numbers &amp; underscores allowed) with no spaces </small></div><div _ngcontent-sc74=\"\" class=\"form-group\"><label _ngcontent-sc74=\"\" for=\"signupName\">Name</label><input _ngcontent-sc74=\"\" class=\"form-control ng-untouched ng-pristine ng-valid\" id=\"signupName\" maxlength=\"30\" name=\"signupName\" ngmodel=\"\" placeholder=\"Enter your Name\" type=\"text\" value=\"\"/></div><div _ngcontent-sc74=\"\" class=\"form-group\"><label _ngcontent-sc74=\"\" for=\"email\">Your Email</label><div _ngcontent-sc74=\"\" class=\"mx-0\"><div _ngcontent-sc74=\"\" class=\"col-md-8 px-0\"><input _ngcontent-sc74=\"\" class=\"form-control ng-untouched ng-pristine ng-invalid\" email=\"\" id=\"signupEmail\" maxlength=\"40\" name=\"signupEmail\" placeholder=\"Enter your Email\" required=\"\" type=\"email\" value=\"\"/><!-- --><!-- --></div><div _ngcontent-sc74=\"\" class=\"col-md-4 my-1 px-0\"><button _ngcontent-sc74=\"\" class=\"btn btn-danger btn-sm mt-2\" disabled=\"\" id=\"otpbtn\" type=\"button\"><!-- --> Send OTP</button></div></div></div><div _ngcontent-sc74=\"\" class=\"form-group\"><label _ngcontent-sc74=\"\" for=\"otp\">Enter OTP</label><input _ngcontent-sc74=\"\" class=\"form-control ng-untouched ng-pristine ng-invalid\" id=\"signupOTP\" name=\"signupOTP\" ngmodel=\"\" placeholder=\"Enter OTP\" required=\"\" type=\"number\" value=\"\"/></div><div _ngcontent-sc74=\"\" class=\"form-group\"><label _ngcontent-sc74=\"\" for=\"signupPassword1\">Choose a password (At least 4 characters)</label><input _ngcontent-sc74=\"\" class=\"form-control ng-untouched ng-pristine ng-valid\" id=\"signupPassword1\" maxlength=\"20\" minlength=\"4\" name=\"signupPassword1\" ngmodel=\"\" placeholder=\"Choose a password\" type=\"password\" value=\"\"/></div><div _ngcontent-sc74=\"\" class=\"form-group mb-0\"><label _ngcontent-sc74=\"\" for=\"signupPassword2\">Retype your password</label><input _ngcontent-sc74=\"\" class=\"form-control ng-untouched ng-pristine ng-valid\" id=\"signupPassword2\" maxlength=\"20\" minlength=\"4\" name=\"signupPassword2\" ngmodel=\"\" placeholder=\"Retype your password\" type=\"password\" value=\"\"/></div><!-- --><!-- --><!-- --><!-- --><button _ngcontent-sc74=\"\" class=\"btn btn-danger mt-4\" disabled=\"\" type=\"submit\"><!-- --> SignUp</button></form></div>,\n",
       " <div _ngcontent-sc74=\"\" class=\"form-group\"><label _ngcontent-sc74=\"\" for=\"uname\">Username</label><input _ngcontent-sc74=\"\" class=\"form-control ng-untouched ng-pristine ng-invalid\" id=\"signupUserName\" maxlength=\"10\" minlength=\"4\" name=\"signupUserName\" ngmodel=\"\" pattern=\"[a-zA-Z0-9_ ]*\" placeholder=\"Enter your username\" required=\"\" type=\"text\" value=\"\"/><!-- --><small _ngcontent-sc74=\"\" class=\"form-text text-muted px-1\" id=\"unamehelp\"> Your unique username must 4 - 10 characters (only lowecase letters, numbers &amp; underscores allowed) with no spaces </small></div>,\n",
       " <div _ngcontent-sc74=\"\" class=\"form-group\"><label _ngcontent-sc74=\"\" for=\"signupName\">Name</label><input _ngcontent-sc74=\"\" class=\"form-control ng-untouched ng-pristine ng-valid\" id=\"signupName\" maxlength=\"30\" name=\"signupName\" ngmodel=\"\" placeholder=\"Enter your Name\" type=\"text\" value=\"\"/></div>,\n",
       " <div _ngcontent-sc74=\"\" class=\"form-group\"><label _ngcontent-sc74=\"\" for=\"email\">Your Email</label><div _ngcontent-sc74=\"\" class=\"mx-0\"><div _ngcontent-sc74=\"\" class=\"col-md-8 px-0\"><input _ngcontent-sc74=\"\" class=\"form-control ng-untouched ng-pristine ng-invalid\" email=\"\" id=\"signupEmail\" maxlength=\"40\" name=\"signupEmail\" placeholder=\"Enter your Email\" required=\"\" type=\"email\" value=\"\"/><!-- --><!-- --></div><div _ngcontent-sc74=\"\" class=\"col-md-4 my-1 px-0\"><button _ngcontent-sc74=\"\" class=\"btn btn-danger btn-sm mt-2\" disabled=\"\" id=\"otpbtn\" type=\"button\"><!-- --> Send OTP</button></div></div></div>,\n",
       " <div _ngcontent-sc74=\"\" class=\"mx-0\"><div _ngcontent-sc74=\"\" class=\"col-md-8 px-0\"><input _ngcontent-sc74=\"\" class=\"form-control ng-untouched ng-pristine ng-invalid\" email=\"\" id=\"signupEmail\" maxlength=\"40\" name=\"signupEmail\" placeholder=\"Enter your Email\" required=\"\" type=\"email\" value=\"\"/><!-- --><!-- --></div><div _ngcontent-sc74=\"\" class=\"col-md-4 my-1 px-0\"><button _ngcontent-sc74=\"\" class=\"btn btn-danger btn-sm mt-2\" disabled=\"\" id=\"otpbtn\" type=\"button\"><!-- --> Send OTP</button></div></div>,\n",
       " <div _ngcontent-sc74=\"\" class=\"col-md-8 px-0\"><input _ngcontent-sc74=\"\" class=\"form-control ng-untouched ng-pristine ng-invalid\" email=\"\" id=\"signupEmail\" maxlength=\"40\" name=\"signupEmail\" placeholder=\"Enter your Email\" required=\"\" type=\"email\" value=\"\"/><!-- --><!-- --></div>,\n",
       " <div _ngcontent-sc74=\"\" class=\"col-md-4 my-1 px-0\"><button _ngcontent-sc74=\"\" class=\"btn btn-danger btn-sm mt-2\" disabled=\"\" id=\"otpbtn\" type=\"button\"><!-- --> Send OTP</button></div>,\n",
       " <div _ngcontent-sc74=\"\" class=\"form-group\"><label _ngcontent-sc74=\"\" for=\"otp\">Enter OTP</label><input _ngcontent-sc74=\"\" class=\"form-control ng-untouched ng-pristine ng-invalid\" id=\"signupOTP\" name=\"signupOTP\" ngmodel=\"\" placeholder=\"Enter OTP\" required=\"\" type=\"number\" value=\"\"/></div>,\n",
       " <div _ngcontent-sc74=\"\" class=\"form-group\"><label _ngcontent-sc74=\"\" for=\"signupPassword1\">Choose a password (At least 4 characters)</label><input _ngcontent-sc74=\"\" class=\"form-control ng-untouched ng-pristine ng-valid\" id=\"signupPassword1\" maxlength=\"20\" minlength=\"4\" name=\"signupPassword1\" ngmodel=\"\" placeholder=\"Choose a password\" type=\"password\" value=\"\"/></div>,\n",
       " <div _ngcontent-sc74=\"\" class=\"form-group mb-0\"><label _ngcontent-sc74=\"\" for=\"signupPassword2\">Retype your password</label><input _ngcontent-sc74=\"\" class=\"form-control ng-untouched ng-pristine ng-valid\" id=\"signupPassword2\" maxlength=\"20\" minlength=\"4\" name=\"signupPassword2\" ngmodel=\"\" placeholder=\"Retype your password\" type=\"password\" value=\"\"/></div>,\n",
       " <div _ngcontent-sc74=\"\" class=\"modal-footer\"><button _ngcontent-sc74=\"\" class=\"btn btn-secondary\" data-dismiss=\"modal\" type=\"button\">Close</button></div>,\n",
       " <div _ngcontent-sc76=\"\" class=\"content\"><router-outlet _ngcontent-sc76=\"\"></router-outlet><app-homepage _nghost-sc67=\"\"><section _ngcontent-sc67=\"\" class=\"jumbotron text-center\"><div _ngcontent-sc67=\"\" class=\"container\"><img _ngcontent-sc67=\"\" alt=\"logo\" src=\"../../../assets/img/logo.png\" width=\"120\"/><h1 _ngcontent-sc67=\"\" class=\"jumbotron-heading\"><span _ngcontent-sc67=\"\" id=\"typed\"></span></h1><p _ngcontent-sc67=\"\" class=\"lead text-muted\">Confused on which course to take? I have got you covered. Browse courses and find out the best course for you. Its free!<br _ngcontent-sc67=\"\"/>Code With Harry is my attempt to teach basics and those coding techniques to people in short time which took me ages to learn.</p><p _ngcontent-sc67=\"\"><a _ngcontent-sc67=\"\" class=\"btn btn-danger my-2\" href=\"/blog\" routerlink=\"/blog\">Browse Blog</a><a _ngcontent-sc67=\"\" class=\"btn btn-success my-2\" href=\"/videos\" routerlink=\"/videos\">Browse Video Tutorials</a><a _ngcontent-sc67=\"\" class=\"btn btn-primary my-2\" href=\"/contact\" routerlink=\"/contact\">Contact Me</a></p></div></section><div _ngcontent-sc67=\"\" class=\"container\"><div _ngcontent-sc67=\"\" class=\"row\"><div _ngcontent-sc67=\"\" class=\"card mx-auto my-2 p-2 align-items-center\" style=\"width: 18rem;\"><img _ngcontent-sc67=\"\" alt=\"...\" class=\"padded card-img-top\" src=\"../../../assets/img/home-img-1.jpg\"/><div _ngcontent-sc67=\"\" class=\"card-body\"><h5 _ngcontent-sc67=\"\" class=\"card-title text-center\">Free Video Courses</h5><p _ngcontent-sc67=\"\" class=\"card-text text-center\">Get your programming career started with these free video courses. Source code is available with all the videos for amazing learning experience</p><a _ngcontent-sc67=\"\" class=\"btn btn-primary d-block\" href=\"/videos\" routerlink=\"/videos\">Browse Video Courses</a></div></div><div _ngcontent-sc67=\"\" class=\"card mx-auto my-2 p-2 align-items-center\" style=\"width: 18rem;\"><img _ngcontent-sc67=\"\" alt=\"...\" class=\"padded card-img-top\" src=\"../../../assets/img/home-img-2.jpg\"/><div _ngcontent-sc67=\"\" class=\"card-body\"><h5 _ngcontent-sc67=\"\" class=\"card-title text-center\">Coding Articles</h5><p _ngcontent-sc67=\"\" class=\"card-text text-center\">Some of the latest coding information compiled in the form of coding articles. Keep your programming knowledge up to date with these articles.</p><a _ngcontent-sc67=\"\" class=\"btn btn-primary d-block\" href=\"/blog\" routerlink=\"/blog\">Go to Blog</a></div></div><div _ngcontent-sc67=\"\" class=\"card mx-auto my-2 p-2 align-items-center\" style=\"width: 18rem;\"><img _ngcontent-sc67=\"\" alt=\"...\" class=\"padded card-img-top\" src=\"../../../assets/img/home-img-3.jpg\"/><div _ngcontent-sc67=\"\" class=\"card-body\"><h5 _ngcontent-sc67=\"\" class=\"card-title text-center\">Contact Me</h5><p _ngcontent-sc67=\"\" class=\"card-text text-center\">Learn programming from these free courses. Examples are available with these tutorials. You can contact me for any doubt and I will get back to you!</p><a _ngcontent-sc67=\"\" class=\"btn btn-primary d-block\" href=\"/contact\" routerlink=\"/contact\">Contact Me</a></div></div></div></div></app-homepage><!-- --></div>,\n",
       " <div _ngcontent-sc67=\"\" class=\"container\"><img _ngcontent-sc67=\"\" alt=\"logo\" src=\"../../../assets/img/logo.png\" width=\"120\"/><h1 _ngcontent-sc67=\"\" class=\"jumbotron-heading\"><span _ngcontent-sc67=\"\" id=\"typed\"></span></h1><p _ngcontent-sc67=\"\" class=\"lead text-muted\">Confused on which course to take? I have got you covered. Browse courses and find out the best course for you. Its free!<br _ngcontent-sc67=\"\"/>Code With Harry is my attempt to teach basics and those coding techniques to people in short time which took me ages to learn.</p><p _ngcontent-sc67=\"\"><a _ngcontent-sc67=\"\" class=\"btn btn-danger my-2\" href=\"/blog\" routerlink=\"/blog\">Browse Blog</a><a _ngcontent-sc67=\"\" class=\"btn btn-success my-2\" href=\"/videos\" routerlink=\"/videos\">Browse Video Tutorials</a><a _ngcontent-sc67=\"\" class=\"btn btn-primary my-2\" href=\"/contact\" routerlink=\"/contact\">Contact Me</a></p></div>,\n",
       " <div _ngcontent-sc67=\"\" class=\"container\"><div _ngcontent-sc67=\"\" class=\"row\"><div _ngcontent-sc67=\"\" class=\"card mx-auto my-2 p-2 align-items-center\" style=\"width: 18rem;\"><img _ngcontent-sc67=\"\" alt=\"...\" class=\"padded card-img-top\" src=\"../../../assets/img/home-img-1.jpg\"/><div _ngcontent-sc67=\"\" class=\"card-body\"><h5 _ngcontent-sc67=\"\" class=\"card-title text-center\">Free Video Courses</h5><p _ngcontent-sc67=\"\" class=\"card-text text-center\">Get your programming career started with these free video courses. Source code is available with all the videos for amazing learning experience</p><a _ngcontent-sc67=\"\" class=\"btn btn-primary d-block\" href=\"/videos\" routerlink=\"/videos\">Browse Video Courses</a></div></div><div _ngcontent-sc67=\"\" class=\"card mx-auto my-2 p-2 align-items-center\" style=\"width: 18rem;\"><img _ngcontent-sc67=\"\" alt=\"...\" class=\"padded card-img-top\" src=\"../../../assets/img/home-img-2.jpg\"/><div _ngcontent-sc67=\"\" class=\"card-body\"><h5 _ngcontent-sc67=\"\" class=\"card-title text-center\">Coding Articles</h5><p _ngcontent-sc67=\"\" class=\"card-text text-center\">Some of the latest coding information compiled in the form of coding articles. Keep your programming knowledge up to date with these articles.</p><a _ngcontent-sc67=\"\" class=\"btn btn-primary d-block\" href=\"/blog\" routerlink=\"/blog\">Go to Blog</a></div></div><div _ngcontent-sc67=\"\" class=\"card mx-auto my-2 p-2 align-items-center\" style=\"width: 18rem;\"><img _ngcontent-sc67=\"\" alt=\"...\" class=\"padded card-img-top\" src=\"../../../assets/img/home-img-3.jpg\"/><div _ngcontent-sc67=\"\" class=\"card-body\"><h5 _ngcontent-sc67=\"\" class=\"card-title text-center\">Contact Me</h5><p _ngcontent-sc67=\"\" class=\"card-text text-center\">Learn programming from these free courses. Examples are available with these tutorials. You can contact me for any doubt and I will get back to you!</p><a _ngcontent-sc67=\"\" class=\"btn btn-primary d-block\" href=\"/contact\" routerlink=\"/contact\">Contact Me</a></div></div></div></div>,\n",
       " <div _ngcontent-sc67=\"\" class=\"row\"><div _ngcontent-sc67=\"\" class=\"card mx-auto my-2 p-2 align-items-center\" style=\"width: 18rem;\"><img _ngcontent-sc67=\"\" alt=\"...\" class=\"padded card-img-top\" src=\"../../../assets/img/home-img-1.jpg\"/><div _ngcontent-sc67=\"\" class=\"card-body\"><h5 _ngcontent-sc67=\"\" class=\"card-title text-center\">Free Video Courses</h5><p _ngcontent-sc67=\"\" class=\"card-text text-center\">Get your programming career started with these free video courses. Source code is available with all the videos for amazing learning experience</p><a _ngcontent-sc67=\"\" class=\"btn btn-primary d-block\" href=\"/videos\" routerlink=\"/videos\">Browse Video Courses</a></div></div><div _ngcontent-sc67=\"\" class=\"card mx-auto my-2 p-2 align-items-center\" style=\"width: 18rem;\"><img _ngcontent-sc67=\"\" alt=\"...\" class=\"padded card-img-top\" src=\"../../../assets/img/home-img-2.jpg\"/><div _ngcontent-sc67=\"\" class=\"card-body\"><h5 _ngcontent-sc67=\"\" class=\"card-title text-center\">Coding Articles</h5><p _ngcontent-sc67=\"\" class=\"card-text text-center\">Some of the latest coding information compiled in the form of coding articles. Keep your programming knowledge up to date with these articles.</p><a _ngcontent-sc67=\"\" class=\"btn btn-primary d-block\" href=\"/blog\" routerlink=\"/blog\">Go to Blog</a></div></div><div _ngcontent-sc67=\"\" class=\"card mx-auto my-2 p-2 align-items-center\" style=\"width: 18rem;\"><img _ngcontent-sc67=\"\" alt=\"...\" class=\"padded card-img-top\" src=\"../../../assets/img/home-img-3.jpg\"/><div _ngcontent-sc67=\"\" class=\"card-body\"><h5 _ngcontent-sc67=\"\" class=\"card-title text-center\">Contact Me</h5><p _ngcontent-sc67=\"\" class=\"card-text text-center\">Learn programming from these free courses. Examples are available with these tutorials. You can contact me for any doubt and I will get back to you!</p><a _ngcontent-sc67=\"\" class=\"btn btn-primary d-block\" href=\"/contact\" routerlink=\"/contact\">Contact Me</a></div></div></div>,\n",
       " <div _ngcontent-sc67=\"\" class=\"card mx-auto my-2 p-2 align-items-center\" style=\"width: 18rem;\"><img _ngcontent-sc67=\"\" alt=\"...\" class=\"padded card-img-top\" src=\"../../../assets/img/home-img-1.jpg\"/><div _ngcontent-sc67=\"\" class=\"card-body\"><h5 _ngcontent-sc67=\"\" class=\"card-title text-center\">Free Video Courses</h5><p _ngcontent-sc67=\"\" class=\"card-text text-center\">Get your programming career started with these free video courses. Source code is available with all the videos for amazing learning experience</p><a _ngcontent-sc67=\"\" class=\"btn btn-primary d-block\" href=\"/videos\" routerlink=\"/videos\">Browse Video Courses</a></div></div>,\n",
       " <div _ngcontent-sc67=\"\" class=\"card-body\"><h5 _ngcontent-sc67=\"\" class=\"card-title text-center\">Free Video Courses</h5><p _ngcontent-sc67=\"\" class=\"card-text text-center\">Get your programming career started with these free video courses. Source code is available with all the videos for amazing learning experience</p><a _ngcontent-sc67=\"\" class=\"btn btn-primary d-block\" href=\"/videos\" routerlink=\"/videos\">Browse Video Courses</a></div>,\n",
       " <div _ngcontent-sc67=\"\" class=\"card mx-auto my-2 p-2 align-items-center\" style=\"width: 18rem;\"><img _ngcontent-sc67=\"\" alt=\"...\" class=\"padded card-img-top\" src=\"../../../assets/img/home-img-2.jpg\"/><div _ngcontent-sc67=\"\" class=\"card-body\"><h5 _ngcontent-sc67=\"\" class=\"card-title text-center\">Coding Articles</h5><p _ngcontent-sc67=\"\" class=\"card-text text-center\">Some of the latest coding information compiled in the form of coding articles. Keep your programming knowledge up to date with these articles.</p><a _ngcontent-sc67=\"\" class=\"btn btn-primary d-block\" href=\"/blog\" routerlink=\"/blog\">Go to Blog</a></div></div>,\n",
       " <div _ngcontent-sc67=\"\" class=\"card-body\"><h5 _ngcontent-sc67=\"\" class=\"card-title text-center\">Coding Articles</h5><p _ngcontent-sc67=\"\" class=\"card-text text-center\">Some of the latest coding information compiled in the form of coding articles. Keep your programming knowledge up to date with these articles.</p><a _ngcontent-sc67=\"\" class=\"btn btn-primary d-block\" href=\"/blog\" routerlink=\"/blog\">Go to Blog</a></div>,\n",
       " <div _ngcontent-sc67=\"\" class=\"card mx-auto my-2 p-2 align-items-center\" style=\"width: 18rem;\"><img _ngcontent-sc67=\"\" alt=\"...\" class=\"padded card-img-top\" src=\"../../../assets/img/home-img-3.jpg\"/><div _ngcontent-sc67=\"\" class=\"card-body\"><h5 _ngcontent-sc67=\"\" class=\"card-title text-center\">Contact Me</h5><p _ngcontent-sc67=\"\" class=\"card-text text-center\">Learn programming from these free courses. Examples are available with these tutorials. You can contact me for any doubt and I will get back to you!</p><a _ngcontent-sc67=\"\" class=\"btn btn-primary d-block\" href=\"/contact\" routerlink=\"/contact\">Contact Me</a></div></div>,\n",
       " <div _ngcontent-sc67=\"\" class=\"card-body\"><h5 _ngcontent-sc67=\"\" class=\"card-title text-center\">Contact Me</h5><p _ngcontent-sc67=\"\" class=\"card-text text-center\">Learn programming from these free courses. Examples are available with these tutorials. You can contact me for any doubt and I will get back to you!</p><a _ngcontent-sc67=\"\" class=\"btn btn-primary d-block\" href=\"/contact\" routerlink=\"/contact\">Contact Me</a></div>]"
      ]
     },
     "execution_count": 176,
     "metadata": {},
     "output_type": "execute_result"
    }
   ],
   "source": [
    "d = soup.find_all(\"div\")\n",
    "d"
   ]
  },
  {
   "cell_type": "code",
   "execution_count": 178,
   "metadata": {},
   "outputs": [
    {
     "data": {
      "text/plain": [
       "['collapse', 'navbar-collapse']"
      ]
     },
     "execution_count": 178,
     "metadata": {},
     "output_type": "execute_result"
    }
   ],
   "source": [
    "\n",
    "\n",
    "divs = soup.find(\"div\")[\"class\"]\n",
    "\n",
    "list(divs)"
   ]
  },
  {
   "cell_type": "code",
   "execution_count": 173,
   "metadata": {},
   "outputs": [
    {
     "data": {
      "text/plain": [
       "'navbarSupportedContent'"
      ]
     },
     "execution_count": 173,
     "metadata": {},
     "output_type": "execute_result"
    }
   ],
   "source": [
    "ids = soup.find(\"div\")[\"id\"]\n",
    "ids"
   ]
  },
  {
   "cell_type": "code",
   "execution_count": 174,
   "metadata": {},
   "outputs": [
    {
     "data": {
      "text/plain": [
       "<div _ngcontent-sc74=\"\" class=\"collapse navbar-collapse\" id=\"navbarSupportedContent\"><ul _ngcontent-sc74=\"\" class=\"navbar-nav mr-auto\"><li _ngcontent-sc74=\"\" class=\"nav-item font-weight-bold\"><a _ngcontent-sc74=\"\" class=\"nav-link\" href=\"/\" routerlink=\"/\">Home</a></li><li _ngcontent-sc74=\"\" class=\"nav-item font-weight-bold\"><a _ngcontent-sc74=\"\" class=\"nav-link\" href=\"/videos\" routerlink=\"/videos\">Videos</a></li><li _ngcontent-sc74=\"\" class=\"nav-item font-weight-bold\"><a _ngcontent-sc74=\"\" class=\"nav-link\" href=\"/blog\" routerlink=\"/blog\">Blog</a></li><li _ngcontent-sc74=\"\" class=\"nav-item font-weight-bold\"><a _ngcontent-sc74=\"\" class=\"nav-link\" href=\"/contact\" routerlink=\"/contact\">Contact Me</a></li></ul><form _ngcontent-sc74=\"\" class=\"form-inline my-2 my-lg-0 mr-3 ng-untouched ng-pristine ng-valid\" novalidate=\"\"><input _ngcontent-sc74=\"\" aria-label=\"Search\" class=\"form-control mr-sm-2 ng-untouched ng-pristine ng-valid\" name=\"query\" placeholder=\"Search\" type=\"text\" value=\"\"/><button _ngcontent-sc74=\"\" class=\"btn btn-danger my-2 my-sm-0\" type=\"submit\">Search</button></form><div _ngcontent-sc74=\"\" class=\"mx-0\"><button _ngcontent-sc74=\"\" class=\"btn btn-danger mr-2\" data-target=\"#loginModal\" data-toggle=\"modal\" type=\"button\">Login</button><button _ngcontent-sc74=\"\" class=\"btn btn-danger\" data-target=\"#signupModal\" data-toggle=\"modal\" type=\"button\">SignUp</button></div><!-- --><!-- --></div>"
      ]
     },
     "execution_count": 174,
     "metadata": {},
     "output_type": "execute_result"
    }
   ],
   "source": [
    "navbar = soup.find(id = \"navbarSupportedContent\")\n",
    "navbar"
   ]
  },
  {
   "cell_type": "code",
   "execution_count": 168,
   "metadata": {},
   "outputs": [
    {
     "name": "stdout",
     "output_type": "stream",
     "text": [
      "<ul _ngcontent-sc74=\"\" class=\"navbar-nav mr-auto\"><li _ngcontent-sc74=\"\" class=\"nav-item font-weight-bold\"><a _ngcontent-sc74=\"\" class=\"nav-link\" href=\"/\" routerlink=\"/\">Home</a></li><li _ngcontent-sc74=\"\" class=\"nav-item font-weight-bold\"><a _ngcontent-sc74=\"\" class=\"nav-link\" href=\"/videos\" routerlink=\"/videos\">Videos</a></li><li _ngcontent-sc74=\"\" class=\"nav-item font-weight-bold\"><a _ngcontent-sc74=\"\" class=\"nav-link\" href=\"/blog\" routerlink=\"/blog\">Blog</a></li><li _ngcontent-sc74=\"\" class=\"nav-item font-weight-bold\"><a _ngcontent-sc74=\"\" class=\"nav-link\" href=\"/contact\" routerlink=\"/contact\">Contact Me</a></li></ul>\n",
      "<form _ngcontent-sc74=\"\" class=\"form-inline my-2 my-lg-0 mr-3 ng-untouched ng-pristine ng-valid\" novalidate=\"\"><input _ngcontent-sc74=\"\" aria-label=\"Search\" class=\"form-control mr-sm-2 ng-untouched ng-pristine ng-valid\" name=\"query\" placeholder=\"Search\" type=\"text\" value=\"\"/><button _ngcontent-sc74=\"\" class=\"btn btn-danger my-2 my-sm-0\" type=\"submit\">Search</button></form>\n",
      "<div _ngcontent-sc74=\"\" class=\"mx-0\"><button _ngcontent-sc74=\"\" class=\"btn btn-danger mr-2\" data-target=\"#loginModal\" data-toggle=\"modal\" type=\"button\">Login</button><button _ngcontent-sc74=\"\" class=\"btn btn-danger\" data-target=\"#signupModal\" data-toggle=\"modal\" type=\"button\">SignUp</button></div>\n",
      " \n",
      " \n"
     ]
    }
   ],
   "source": [
    "for child in navbar.children:\n",
    "    print(child)\n",
    "    \n",
    "## all elements stored as generators, does not occupies any memory"
   ]
  },
  {
   "cell_type": "code",
   "execution_count": 182,
   "metadata": {},
   "outputs": [
    {
     "name": "stdout",
     "output_type": "stream",
     "text": [
      "<ul _ngcontent-sc74=\"\" class=\"navbar-nav mr-auto\"><li _ngcontent-sc74=\"\" class=\"nav-item font-weight-bold\"><a _ngcontent-sc74=\"\" class=\"nav-link\" href=\"/\" routerlink=\"/\">Home</a></li><li _ngcontent-sc74=\"\" class=\"nav-item font-weight-bold\"><a _ngcontent-sc74=\"\" class=\"nav-link\" href=\"/videos\" routerlink=\"/videos\">Videos</a></li><li _ngcontent-sc74=\"\" class=\"nav-item font-weight-bold\"><a _ngcontent-sc74=\"\" class=\"nav-link\" href=\"/blog\" routerlink=\"/blog\">Blog</a></li><li _ngcontent-sc74=\"\" class=\"nav-item font-weight-bold\"><a _ngcontent-sc74=\"\" class=\"nav-link\" href=\"/contact\" routerlink=\"/contact\">Contact Me</a></li></ul>\n",
      "<form _ngcontent-sc74=\"\" class=\"form-inline my-2 my-lg-0 mr-3 ng-untouched ng-pristine ng-valid\" novalidate=\"\"><input _ngcontent-sc74=\"\" aria-label=\"Search\" class=\"form-control mr-sm-2 ng-untouched ng-pristine ng-valid\" name=\"query\" placeholder=\"Search\" type=\"text\" value=\"\"/><button _ngcontent-sc74=\"\" class=\"btn btn-danger my-2 my-sm-0\" type=\"submit\">Search</button></form>\n",
      "<div _ngcontent-sc74=\"\" class=\"mx-0\"><button _ngcontent-sc74=\"\" class=\"btn btn-danger mr-2\" data-target=\"#loginModal\" data-toggle=\"modal\" type=\"button\">Login</button><button _ngcontent-sc74=\"\" class=\"btn btn-danger\" data-target=\"#signupModal\" data-toggle=\"modal\" type=\"button\">SignUp</button></div>\n",
      " \n",
      " \n"
     ]
    }
   ],
   "source": [
    "for content in navbar.contents:\n",
    "    print(content)\n",
    "    \n",
    "## all elements stored in actual memory"
   ]
  },
  {
   "cell_type": "code",
   "execution_count": 183,
   "metadata": {},
   "outputs": [
    {
     "name": "stdout",
     "output_type": "stream",
     "text": [
      "Home\n",
      "Videos\n",
      "Blog\n",
      "Contact Me\n",
      "Search\n",
      "Login\n",
      "SignUp\n"
     ]
    }
   ],
   "source": [
    "for string in navbar.strings:\n",
    "    print(string)\n",
    "    \n",
    "## strings are generallt refered as written between <a> HERE </a> in <div>"
   ]
  },
  {
   "cell_type": "code",
   "execution_count": 184,
   "metadata": {},
   "outputs": [
    {
     "name": "stdout",
     "output_type": "stream",
     "text": [
      "Home\n",
      "Videos\n",
      "Blog\n",
      "Contact Me\n",
      "Search\n",
      "Login\n",
      "SignUp\n"
     ]
    }
   ],
   "source": [
    "for string in navbar.stripped_strings:\n",
    "    print(string)\n",
    "\n",
    "## strings are generallt refered as written between <a> HERE </a> in <div>"
   ]
  }
 ],
 "metadata": {
  "kernelspec": {
   "display_name": "Python 3",
   "language": "python",
   "name": "python3"
  },
  "language_info": {
   "codemirror_mode": {
    "name": "ipython",
    "version": 3
   },
   "file_extension": ".py",
   "mimetype": "text/x-python",
   "name": "python",
   "nbconvert_exporter": "python",
   "pygments_lexer": "ipython3",
   "version": "3.8.5"
  }
 },
 "nbformat": 4,
 "nbformat_minor": 4
}
